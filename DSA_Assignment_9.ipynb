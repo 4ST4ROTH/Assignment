{
  "nbformat": 4,
  "nbformat_minor": 0,
  "metadata": {
    "colab": {
      "provenance": [],
      "authorship_tag": "ABX9TyN1LlqOw41qUwt9W2PqDuU7",
      "include_colab_link": true
    },
    "kernelspec": {
      "name": "python3",
      "display_name": "Python 3"
    },
    "language_info": {
      "name": "python"
    }
  },
  "cells": [
    {
      "cell_type": "markdown",
      "metadata": {
        "id": "view-in-github",
        "colab_type": "text"
      },
      "source": [
        "<a href=\"https://colab.research.google.com/github/4ST4ROTH/Assignment/blob/main/DSA_Assignment_9.ipynb\" target=\"_parent\"><img src=\"https://colab.research.google.com/assets/colab-badge.svg\" alt=\"Open In Colab\"/></a>"
      ]
    },
    {
      "cell_type": "markdown",
      "source": [
        "Given an integer `n`, return *`true` if it is a power of two. Otherwise, return `false`*.\n",
        "\n",
        "An integer `n` is a power of two, if there exists an integer `x` such that `n == 2x`."
      ],
      "metadata": {
        "id": "scFbmG75Ee64"
      }
    },
    {
      "cell_type": "code",
      "execution_count": 1,
      "metadata": {
        "id": "wSg72bATEUAc"
      },
      "outputs": [],
      "source": [
        "def is_power_of_two(n):\n",
        "    if n <= 0:\n",
        "        return False\n",
        "    elif n == 1:\n",
        "        return True\n",
        "    elif n % 2 != 0:\n",
        "        return False\n",
        "    else:\n",
        "        return is_power_of_two(n // 2)\n"
      ]
    },
    {
      "cell_type": "code",
      "source": [
        "number = 16\n",
        "result = is_power_of_two(number)\n",
        "print(result)"
      ],
      "metadata": {
        "colab": {
          "base_uri": "https://localhost:8080/"
        },
        "id": "iqnb6LUbEqFj",
        "outputId": "1d87365d-dca7-4cc6-bc3b-9656cc8bbb50"
      },
      "execution_count": 2,
      "outputs": [
        {
          "output_type": "stream",
          "name": "stdout",
          "text": [
            "True\n"
          ]
        }
      ]
    },
    {
      "cell_type": "markdown",
      "source": [
        "Given a number n, find the sum of the first natural numbers."
      ],
      "metadata": {
        "id": "bzevVjwyE1nE"
      }
    },
    {
      "cell_type": "code",
      "source": [
        "def sum_of_natural_numbers(n):\n",
        "    if n == 1:\n",
        "        return 1\n",
        "    else:\n",
        "        return n + sum_of_natural_numbers(n - 1)\n"
      ],
      "metadata": {
        "id": "HDxtQ8HYEt9q"
      },
      "execution_count": 3,
      "outputs": []
    },
    {
      "cell_type": "code",
      "source": [
        "n = 5\n",
        "result = sum_of_natural_numbers(n)\n",
        "print(result)\n"
      ],
      "metadata": {
        "colab": {
          "base_uri": "https://localhost:8080/"
        },
        "id": "55Wi41UME6Jr",
        "outputId": "db4fa153-44c3-4840-d885-1306335682b6"
      },
      "execution_count": 4,
      "outputs": [
        {
          "output_type": "stream",
          "name": "stdout",
          "text": [
            "15\n"
          ]
        }
      ]
    },
    {
      "cell_type": "markdown",
      "source": [
        "Given a positive integer, N. Find the factorial of N."
      ],
      "metadata": {
        "id": "2OkbPV6cFDNJ"
      }
    },
    {
      "cell_type": "code",
      "source": [
        "def factorial(n):\n",
        "    if n == 0 or n == 1:\n",
        "        return 1\n",
        "    else:\n",
        "        return n * factorial(n - 1)\n"
      ],
      "metadata": {
        "id": "5XCY6iCVE96o"
      },
      "execution_count": 5,
      "outputs": []
    },
    {
      "cell_type": "code",
      "source": [
        "N = 5\n",
        "result = factorial(N)\n",
        "print(result)\n",
        "\n"
      ],
      "metadata": {
        "colab": {
          "base_uri": "https://localhost:8080/"
        },
        "id": "vvxN9HSAFWfm",
        "outputId": "e6a60df9-f32d-475e-beb1-2815b753fd95"
      },
      "execution_count": 6,
      "outputs": [
        {
          "output_type": "stream",
          "name": "stdout",
          "text": [
            "120\n"
          ]
        }
      ]
    },
    {
      "cell_type": "markdown",
      "source": [
        "Given a number N and a power P, the task is to find the exponent of this number raised to the given power, i.e. N^P."
      ],
      "metadata": {
        "id": "9r8NSQicFkcI"
      }
    },
    {
      "cell_type": "code",
      "source": [
        "def power(N, P):\n",
        "    if P == 0:\n",
        "        return 1\n",
        "    else:\n",
        "        return N * power(N, P - 1)\n"
      ],
      "metadata": {
        "id": "YGXzZu0vFaFN"
      },
      "execution_count": 7,
      "outputs": []
    },
    {
      "cell_type": "code",
      "source": [
        "N = 2\n",
        "P = 5\n",
        "result = power(N, P)\n",
        "print(result)\n"
      ],
      "metadata": {
        "colab": {
          "base_uri": "https://localhost:8080/"
        },
        "id": "Qbgn5tdYFoE7",
        "outputId": "11cb42ff-81b5-4a5c-efbe-f5aeb044c0d6"
      },
      "execution_count": 8,
      "outputs": [
        {
          "output_type": "stream",
          "name": "stdout",
          "text": [
            "32\n"
          ]
        }
      ]
    },
    {
      "cell_type": "markdown",
      "source": [
        "Given an array of integers arr, the task is to find maximum element of that array using recursion."
      ],
      "metadata": {
        "id": "iMV1qv2GFzhO"
      }
    },
    {
      "cell_type": "code",
      "source": [
        "def find_max(arr):\n",
        "    if len(arr) == 1:\n",
        "        return arr[0]\n",
        "    else:\n",
        "        return max(arr[0], find_max(arr[1:]))\n"
      ],
      "metadata": {
        "id": "SluOt3HfFvX4"
      },
      "execution_count": 9,
      "outputs": []
    },
    {
      "cell_type": "code",
      "source": [
        "arr = [10, 7, 15, 3, 6]\n",
        "result = find_max(arr)\n",
        "print(result)\n"
      ],
      "metadata": {
        "colab": {
          "base_uri": "https://localhost:8080/"
        },
        "id": "9VIxxQPeF-d1",
        "outputId": "939b1c89-f980-4d76-c369-231a1aedc315"
      },
      "execution_count": 10,
      "outputs": [
        {
          "output_type": "stream",
          "name": "stdout",
          "text": [
            "15\n"
          ]
        }
      ]
    },
    {
      "cell_type": "markdown",
      "source": [
        "Given first term (a), common difference (d) and a integer N of the Arithmetic Progression series, the task is to find Nth term of the series."
      ],
      "metadata": {
        "id": "Ai-Lo-HLGGsy"
      }
    },
    {
      "cell_type": "code",
      "source": [
        "def find_nth_term(a, d, N):\n",
        "    nth_term = a + (N - 1) * d\n",
        "    return nth_term\n"
      ],
      "metadata": {
        "id": "OqLk9BsMGB57"
      },
      "execution_count": 11,
      "outputs": []
    },
    {
      "cell_type": "code",
      "source": [
        "a = 2\n",
        "d = 3\n",
        "N = 5\n",
        "result = find_nth_term(a, d, N)\n",
        "print(result)\n"
      ],
      "metadata": {
        "colab": {
          "base_uri": "https://localhost:8080/"
        },
        "id": "YbzDrgpgGO4X",
        "outputId": "2dd3292f-0779-4c74-fdc6-95c7f8a29e51"
      },
      "execution_count": 12,
      "outputs": [
        {
          "output_type": "stream",
          "name": "stdout",
          "text": [
            "14\n"
          ]
        }
      ]
    },
    {
      "cell_type": "markdown",
      "source": [
        "Given a string S, the task is to write a program to print all permutations of a given string."
      ],
      "metadata": {
        "id": "VBAtrAhDGa8B"
      }
    },
    {
      "cell_type": "code",
      "source": [
        "def permute(S, start, current_permutation):\n",
        "    if start == len(S):\n",
        "        print(current_permutation)\n",
        "        return\n",
        "\n",
        "    for i in range(start, len(S)):\n",
        "        # Swap characters at indices start and i\n",
        "        S = list(S)\n",
        "        S[start], S[i] = S[i], S[start]\n",
        "        S = ''.join(S)\n",
        "\n",
        "        permute(S, start + 1, current_permutation + S[start])\n",
        "\n",
        "        # Restore original order by swapping back\n",
        "        S = list(S)\n",
        "        S[start], S[i] = S[i], S[start]\n",
        "        S = ''.join(S)\n",
        "\n",
        "# Function to print all permutations of a string\n",
        "def print_permutations(S):\n",
        "    permute(S, 0, \"\")\n",
        "\n",
        "S = \"ABC\"\n",
        "print_permutations(S)\n"
      ],
      "metadata": {
        "colab": {
          "base_uri": "https://localhost:8080/"
        },
        "id": "_AdT2ggYGSbS",
        "outputId": "62f86619-d1ca-4c7b-8fbf-bca55371b353"
      },
      "execution_count": 13,
      "outputs": [
        {
          "output_type": "stream",
          "name": "stdout",
          "text": [
            "ABC\n",
            "ACB\n",
            "BAC\n",
            "BCA\n",
            "CBA\n",
            "CAB\n"
          ]
        }
      ]
    },
    {
      "cell_type": "markdown",
      "source": [
        "Given an array, find a product of all array elements."
      ],
      "metadata": {
        "id": "4h3wWMXaGsiZ"
      }
    },
    {
      "cell_type": "code",
      "source": [
        "def array_product(arr, n):\n",
        "    if n == 0:\n",
        "        return arr[0]\n",
        "    else:\n",
        "        return arr[n] * array_product(arr, n - 1)\n",
        "\n",
        "def product_of_array(arr):\n",
        "    if len(arr) == 0:\n",
        "        return None\n",
        "    else:\n",
        "        return array_product(arr, len(arr) - 1)\n"
      ],
      "metadata": {
        "id": "9O_02D_9GkLg"
      },
      "execution_count": 14,
      "outputs": []
    },
    {
      "cell_type": "code",
      "source": [
        "arr = [2, 3, 4, 5]\n",
        "result = product_of_array(arr)\n",
        "print(result)\n"
      ],
      "metadata": {
        "colab": {
          "base_uri": "https://localhost:8080/"
        },
        "id": "hjxs1ZGsG7Mb",
        "outputId": "9ef385e0-1b7f-4496-c4db-184576cd1016"
      },
      "execution_count": 15,
      "outputs": [
        {
          "output_type": "stream",
          "name": "stdout",
          "text": [
            "120\n"
          ]
        }
      ]
    },
    {
      "cell_type": "code",
      "source": [],
      "metadata": {
        "id": "W9w3kQfvG-qI"
      },
      "execution_count": null,
      "outputs": []
    }
  ]
}