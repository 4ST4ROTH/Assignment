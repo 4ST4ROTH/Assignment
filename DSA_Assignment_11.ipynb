{
  "nbformat": 4,
  "nbformat_minor": 0,
  "metadata": {
    "colab": {
      "provenance": [],
      "authorship_tag": "ABX9TyMdTZBsjvNDTIcv7MJ5nZjO",
      "include_colab_link": true
    },
    "kernelspec": {
      "name": "python3",
      "display_name": "Python 3"
    },
    "language_info": {
      "name": "python"
    }
  },
  "cells": [
    {
      "cell_type": "markdown",
      "metadata": {
        "id": "view-in-github",
        "colab_type": "text"
      },
      "source": [
        "<a href=\"https://colab.research.google.com/github/4ST4ROTH/Assignment/blob/main/DSA_Assignment_11.ipynb\" target=\"_parent\"><img src=\"https://colab.research.google.com/assets/colab-badge.svg\" alt=\"Open In Colab\"/></a>"
      ]
    },
    {
      "cell_type": "markdown",
      "source": [
        "Given a non-negative integer `x`, return *the square root of* `x` *rounded down to the nearest integer*. The returned integer should be **non-negative** as well.\n",
        "\n",
        "You **must not use** any built-in exponent function or operator.\n",
        "\n",
        "- For example, do not use `pow(x, 0.5)` in c++ or `x ** 0.5` in python."
      ],
      "metadata": {
        "id": "b0TX7iHt7osX"
      }
    },
    {
      "cell_type": "code",
      "execution_count": 1,
      "metadata": {
        "id": "UXwtJAKH7gJf"
      },
      "outputs": [],
      "source": [
        "def my_sqrt(x):\n",
        "    if x < 2:\n",
        "        return x\n",
        "\n",
        "    left, right = 0, x\n",
        "\n",
        "    while left <= right:\n",
        "        middle = (left + right) // 2\n",
        "        square = middle * middle\n",
        "\n",
        "        if square > x:\n",
        "            right = middle - 1\n",
        "        else:\n",
        "            left = middle + 1\n",
        "\n",
        "    return left - 1\n"
      ]
    },
    {
      "cell_type": "markdown",
      "source": [
        "A peak element is an element that is strictly greater than its neighbors.\n",
        "\n",
        "Given a **0-indexed** integer array `nums`, find a peak element, and return its index. If the array contains multiple peaks, return the index to **any of the peaks**.\n",
        "\n",
        "You may imagine that `nums[-1] = nums[n] = -∞`. In other words, an element is always considered to be strictly greater than a neighbor that is outside the array.\n",
        "\n",
        "You must write an algorithm that runs in `O(log n)` time."
      ],
      "metadata": {
        "id": "d4DBipfJ7z04"
      }
    },
    {
      "cell_type": "code",
      "source": [
        "def find_peak_element(nums):\n",
        "    left, right = 0, len(nums) - 1\n",
        "\n",
        "    while left < right:\n",
        "        middle = (left + right) // 2\n",
        "\n",
        "        if nums[middle] > nums[middle + 1] and nums[middle] > nums[middle - 1]:\n",
        "            return middle\n",
        "        elif nums[middle - 1] > nums[middle]:\n",
        "            right = middle - 1\n",
        "        else:\n",
        "            left = middle + 1\n",
        "\n",
        "    return left\n",
        "\n"
      ],
      "metadata": {
        "id": "SQsR8_sq7t8O"
      },
      "execution_count": 2,
      "outputs": []
    },
    {
      "cell_type": "markdown",
      "source": [
        "Given an array nums containing n distinct numbers in the range [0, n], return the only number in the range that is missing from the array."
      ],
      "metadata": {
        "id": "0a4UG7Na8AmO"
      }
    },
    {
      "cell_type": "code",
      "source": [
        "def find_missing_number(nums):\n",
        "    n = len(nums)\n",
        "    missing = 0\n",
        "\n",
        "    for i in range(n + 1):\n",
        "        missing ^= i\n",
        "\n",
        "    for num in nums:\n",
        "        missing ^= num\n",
        "\n",
        "    return missing\n"
      ],
      "metadata": {
        "id": "hlqFj6OA779j"
      },
      "execution_count": 3,
      "outputs": []
    },
    {
      "cell_type": "markdown",
      "source": [
        "Given an array of integers `nums` containing `n + 1` integers where each integer is in the range `[1, n]` inclusive.\n",
        "\n",
        "There is only **one repeated number** in `nums`, return *this repeated number*.\n",
        "\n",
        "You must solve the problem **without** modifying the array `nums` and uses only constant extra space."
      ],
      "metadata": {
        "id": "9HWDyvtn8Ij8"
      }
    },
    {
      "cell_type": "code",
      "source": [
        "def find_repeated_number(nums):\n",
        "    slow = nums[0]\n",
        "    fast = nums[0]\n",
        "\n",
        "    # Move slow pointer one step and fast pointer two steps at a time until they meet\n",
        "    while True:\n",
        "        slow = nums[slow]\n",
        "        fast = nums[nums[fast]]\n",
        "        if slow == fast:\n",
        "            break\n",
        "\n",
        "    # Reset slow pointer to the first element\n",
        "    slow = nums[0]\n",
        "\n",
        "    # Move both pointers one step at a time until they meet again\n",
        "    while slow != fast:\n",
        "        slow = nums[slow]\n",
        "        fast = nums[fast]\n",
        "\n",
        "    # Return the repeated number\n",
        "    return slow\n"
      ],
      "metadata": {
        "id": "j_aU_wWM8E6T"
      },
      "execution_count": 4,
      "outputs": []
    },
    {
      "cell_type": "markdown",
      "source": [
        "Given two integer arrays nums1 and nums2, return an array of their intersection. Each element in the result must be unique and you may return the result in any order."
      ],
      "metadata": {
        "id": "5OnJPBv58XTk"
      }
    },
    {
      "cell_type": "code",
      "source": [
        "def find_intersection(nums1, nums2):\n",
        "    set1 = set(nums1)\n",
        "    set2 = set(nums2)\n",
        "\n",
        "    intersection = list(set1 & set2)\n",
        "\n",
        "    return intersection\n"
      ],
      "metadata": {
        "id": "1vK8FfNN8Syl"
      },
      "execution_count": 5,
      "outputs": []
    },
    {
      "cell_type": "markdown",
      "source": [
        "Suppose an array of length `n` sorted in ascending order is **rotated** between `1` and `n` times. For example, the array `nums = [0,1,2,4,5,6,7]` might become:\n",
        "\n",
        "- `[4,5,6,7,0,1,2]` if it was rotated `4` times.\n",
        "- `[0,1,2,4,5,6,7]` if it was rotated `7` times.\n",
        "\n",
        "Notice that **rotating** an array `[a[0], a[1], a[2], ..., a[n-1]]` 1 time results in the array `[a[n-1], a[0], a[1], a[2], ..., a[n-2]]`.\n",
        "\n",
        "Given the sorted rotated array `nums` of **unique** elements, return *the minimum element of this array*.\n",
        "\n",
        "You must write an algorithm that runs in `O(log n) time.`"
      ],
      "metadata": {
        "id": "fLGTomZw8k6s"
      }
    },
    {
      "cell_type": "code",
      "source": [
        "def find_minimum(nums):\n",
        "    left, right = 0, len(nums) - 1\n",
        "\n",
        "    while left < right:\n",
        "        middle = (left + right) // 2\n",
        "\n",
        "        if nums[middle] > nums[right]:\n",
        "            left = middle + 1\n",
        "        else:\n",
        "            right = middle\n",
        "\n",
        "    return nums[left]\n"
      ],
      "metadata": {
        "id": "WRvpaP348bzT"
      },
      "execution_count": 6,
      "outputs": []
    },
    {
      "cell_type": "markdown",
      "source": [
        "Given an array of integers `nums` sorted in non-decreasing order, find the starting and ending position of a given `target` value.\n",
        "\n",
        "If `target` is not found in the array, return `[-1, -1]`.\n",
        "\n",
        "You must write an algorithm with `O(log n)` runtime complexity."
      ],
      "metadata": {
        "id": "CRRUScXk8s-Z"
      }
    },
    {
      "cell_type": "code",
      "source": [
        "def search_range(nums, target):\n",
        "    start, end = -1, -1\n",
        "\n",
        "    # Find leftmost occurrence\n",
        "    left, right = 0, len(nums) - 1\n",
        "    while left <= right:\n",
        "        middle = (left + right) // 2\n",
        "        if nums[middle] == target:\n",
        "            start = middle\n",
        "            right = middle - 1\n",
        "        elif nums[middle] < target:\n",
        "            left = middle + 1\n",
        "        else:\n",
        "            right = middle - 1\n",
        "\n",
        "    # Find rightmost occurrence\n",
        "    left, right = 0, len(nums) - 1\n",
        "    while left <= right:\n",
        "        middle = (left + right) // 2\n",
        "        if nums[middle] == target:\n",
        "            end = middle\n",
        "            left = middle + 1\n",
        "        elif nums[middle] < target:\n",
        "            left = middle + 1\n",
        "        else:\n",
        "            right = middle - 1\n",
        "\n",
        "    return [start, end]\n"
      ],
      "metadata": {
        "id": "NoK1Pqzz8qFv"
      },
      "execution_count": 7,
      "outputs": []
    },
    {
      "cell_type": "markdown",
      "source": [
        "Given two integer arrays nums1 and nums2, return an array of their intersection. Each element in the result must appear as many times as it shows in both arrays and you may return the result in any order."
      ],
      "metadata": {
        "id": "im3F8Llq8-LO"
      }
    },
    {
      "cell_type": "code",
      "source": [
        "def find_intersection(nums1, nums2):\n",
        "    freq = {}\n",
        "\n",
        "    # Count frequencies in nums1\n",
        "    for num in nums1:\n",
        "        freq[num] = freq.get(num, 0) + 1\n",
        "\n",
        "    intersection = []\n",
        "\n",
        "    # Find intersected elements in nums2\n",
        "    for num in nums2:\n",
        "        if num in freq and freq[num] > 0:\n",
        "            intersection.append(num)\n",
        "            freq[num] -= 1\n",
        "\n",
        "    return intersection\n"
      ],
      "metadata": {
        "id": "GFnKwfCq86lE"
      },
      "execution_count": 8,
      "outputs": []
    },
    {
      "cell_type": "code",
      "source": [],
      "metadata": {
        "id": "nsScm-SL9Fk3"
      },
      "execution_count": null,
      "outputs": []
    }
  ]
}