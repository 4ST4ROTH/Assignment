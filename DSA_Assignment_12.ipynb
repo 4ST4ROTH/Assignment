{
  "nbformat": 4,
  "nbformat_minor": 0,
  "metadata": {
    "colab": {
      "provenance": [],
      "authorship_tag": "ABX9TyP5GcGBZ7ROshhRc+GZI334",
      "include_colab_link": true
    },
    "kernelspec": {
      "name": "python3",
      "display_name": "Python 3"
    },
    "language_info": {
      "name": "python"
    }
  },
  "cells": [
    {
      "cell_type": "markdown",
      "metadata": {
        "id": "view-in-github",
        "colab_type": "text"
      },
      "source": [
        "<a href=\"https://colab.research.google.com/github/4ST4ROTH/Assignment/blob/main/DSA_Assignment_12.ipynb\" target=\"_parent\"><img src=\"https://colab.research.google.com/assets/colab-badge.svg\" alt=\"Open In Colab\"/></a>"
      ]
    },
    {
      "cell_type": "markdown",
      "source": [
        "Given a singly linked list, delete middle of the linked list. For example, if given linked list is 1->2->3->4->5 then linked list should be modified to 1->2->4->5.If there are even nodes, then there would be two middle nodes, we need to delete the second middle element. For example, if given linked list is 1->2->3->4->5->6 then it should be modified to 1->2->3->5->6.If the input linked list is NULL or has 1 node, then it should return NULL"
      ],
      "metadata": {
        "id": "vKi8lCmF9eQE"
      }
    },
    {
      "cell_type": "code",
      "execution_count": 1,
      "metadata": {
        "id": "-V9Kfsrc9VOI"
      },
      "outputs": [],
      "source": [
        "class ListNode:\n",
        "    def __init__(self, val=0, next=None):\n",
        "        self.val = val\n",
        "        self.next = next\n",
        "\n",
        "\n",
        "def delete_middle_node(head):\n",
        "    slow = head\n",
        "    fast = head\n",
        "    prev = None\n",
        "\n",
        "    while fast and fast.next:\n",
        "        fast = fast.next.next\n",
        "        prev = slow\n",
        "        slow = slow.next\n",
        "\n",
        "    if not slow or not slow.next:\n",
        "        return None\n",
        "\n",
        "    prev.next = slow.next\n",
        "\n",
        "    return head\n"
      ]
    },
    {
      "cell_type": "markdown",
      "source": [
        "Given a linked list of N nodes. The task is to check if the linked list has a loop. Linked list can contain self loop."
      ],
      "metadata": {
        "id": "zciG4h4D9w4m"
      }
    },
    {
      "cell_type": "code",
      "source": [
        "def has_loop(head):\n",
        "    slow = head\n",
        "    fast = head\n",
        "\n",
        "    while fast and fast.next:\n",
        "        slow = slow.next\n",
        "        fast = fast.next.next\n",
        "\n",
        "        if slow == fast:\n",
        "            return True\n",
        "\n",
        "    return False\n"
      ],
      "metadata": {
        "id": "AGOOWbCr9n4V"
      },
      "execution_count": 2,
      "outputs": []
    },
    {
      "cell_type": "markdown",
      "source": [
        "Given a linked list consisting of L nodes and given a number N. The task is to find the Nth node from the end of the linked list."
      ],
      "metadata": {
        "id": "pX8vcZfH-AiH"
      }
    },
    {
      "cell_type": "code",
      "source": [
        "def find_nth_from_end(head, N):\n",
        "    fast = head\n",
        "    slow = head\n",
        "\n",
        "    # Move the fast pointer N steps ahead\n",
        "    for _ in range(N):\n",
        "        if fast is None:\n",
        "            return None  # The length of the linked list is less than N\n",
        "        fast = fast.next\n",
        "\n",
        "    # Move both pointers until the fast pointer reaches the end\n",
        "    while fast:\n",
        "        fast = fast.next\n",
        "        slow = slow.next\n",
        "\n",
        "    return slow.val  # Return the value of the Nth node from the end\n"
      ],
      "metadata": {
        "id": "pRvkqk9l96D2"
      },
      "execution_count": 3,
      "outputs": []
    },
    {
      "cell_type": "markdown",
      "source": [
        "Given a singly linked list of characters, write a function that returns true if the given list is a palindrome, else false."
      ],
      "metadata": {
        "id": "KOkq8vh7-Rti"
      }
    },
    {
      "cell_type": "code",
      "source": [
        "def is_palindrome(head):\n",
        "    slow = head\n",
        "    fast = head\n",
        "    stack = []\n",
        "\n",
        "    # Traverse the linked list and push characters into the stack\n",
        "    while fast and fast.next:\n",
        "        stack.append(slow.val)\n",
        "        slow = slow.next\n",
        "        fast = fast.next.next\n",
        "\n",
        "    # Handle odd length case\n",
        "    if fast:\n",
        "        slow = slow.next\n",
        "\n",
        "    # Compare characters with the stack\n",
        "    while slow:\n",
        "        if stack.pop() != slow.val:\n",
        "            return False\n",
        "        slow = slow.next\n",
        "\n",
        "    return True\n"
      ],
      "metadata": {
        "id": "1PmtmqrY-KJj"
      },
      "execution_count": 4,
      "outputs": []
    },
    {
      "cell_type": "markdown",
      "source": [
        "Given a linked list of **N** nodes such that it may contain a loop.\n",
        "\n",
        "A loop here means that the last node of the link list is connected to the node at position X(1-based index). If the link list does not have any loop, X=0.\n",
        "\n",
        "Remove the loop from the linked list, if it is present, i.e. unlink the last node which is forming the loop."
      ],
      "metadata": {
        "id": "wTvsWz5k-kWp"
      }
    },
    {
      "cell_type": "code",
      "source": [
        "def detect_and_remove_loop(head):\n",
        "    slow = head\n",
        "    fast = head\n",
        "\n",
        "    # Detect the loop\n",
        "    while fast and fast.next:\n",
        "        slow = slow.next\n",
        "        fast = fast.next.next\n",
        "\n",
        "        if slow == fast:\n",
        "            break\n",
        "\n",
        "    # No loop present\n",
        "    if fast is None or fast.next is None:\n",
        "        return head\n",
        "\n",
        "    # Reset slow to the head and find the loop start\n",
        "    slow = head\n",
        "    while slow != fast:\n",
        "        slow = slow.next\n",
        "        fast = fast.next\n",
        "\n",
        "    # Find the last node before the loop\n",
        "    prev = None\n",
        "    while slow.next != fast:\n",
        "        prev = slow\n",
        "        slow = slow.next\n",
        "\n",
        "    # Break the loop\n",
        "    prev.next = None\n",
        "\n",
        "    return head\n"
      ],
      "metadata": {
        "id": "7dpPOdIM-f60"
      },
      "execution_count": 5,
      "outputs": []
    },
    {
      "cell_type": "markdown",
      "source": [
        "Given a linked list and two integers M and N. Traverse the linked list such that you retain M nodes then delete next N nodes, continue the same till end of the linked list.\n",
        "\n",
        "Difficulty Level: Rookie"
      ],
      "metadata": {
        "id": "bBD-c_XC-z5C"
      }
    },
    {
      "cell_type": "code",
      "source": [
        "def retain_delete(head, M, N):\n",
        "    if M == 0:  # If M is 0, delete all nodes\n",
        "        return None\n",
        "\n",
        "    current = head\n",
        "\n",
        "    while current:\n",
        "        # Traverse M nodes\n",
        "        for _ in range(M - 1):\n",
        "            if current:\n",
        "                current = current.next\n",
        "\n",
        "        if not current:\n",
        "            return head  # No more deletions possible\n",
        "\n",
        "        # Delete N nodes\n",
        "        next_node = current\n",
        "        for _ in range(N + 1):\n",
        "            if next_node:\n",
        "                next_node = next_node.next\n",
        "\n",
        "        # Connect the last node of M nodes to the node following the N nodes\n",
        "        current.next = next_node\n",
        "\n",
        "        # Move to the next M nodes\n",
        "        current = next_node\n",
        "\n",
        "    return head\n"
      ],
      "metadata": {
        "id": "ToZB0EzY-uBd"
      },
      "execution_count": 6,
      "outputs": []
    },
    {
      "cell_type": "markdown",
      "source": [
        "Given two linked lists, insert nodes of second list into first list at alternate positions of first list.\n",
        "For example, if first list is 5->7->17->13->11 and second is 12->10->2->4->6, the first list should become 5->12->7->10->17->2->13->4->11->6 and second list should become empty. The nodes of second list should only be inserted when there are positions available. For example, if the first list is 1->2->3 and second list is 4->5->6->7->8, then first list should become 1->4->2->5->3->6 and second list to 7->8.\n",
        "\n",
        "Use of extra space is not allowed (Not allowed to create additional nodes), i.e., insertion must be done in-place. Expected time complexity is O(n) where n is number of nodes in first list."
      ],
      "metadata": {
        "id": "DDJxkDOa_ilT"
      }
    },
    {
      "cell_type": "code",
      "source": [
        "def insert_alternate(first, second):\n",
        "    if first is None:  # If the first list is empty, return the second list\n",
        "        return second\n",
        "\n",
        "    if second is None:  # If the second list is empty, return the first list\n",
        "        return first\n",
        "\n",
        "    current_first = first\n",
        "    current_second = second\n",
        "\n",
        "    while current_first and current_second:\n",
        "        second_next = current_second.next\n",
        "        current_second.next = current_first.next\n",
        "        current_first.next = current_second\n",
        "        current_first = current_second.next\n",
        "        current_second = second_next\n",
        "\n",
        "    if current_first is None:  # Append remaining nodes of the second list\n",
        "        current_first = first\n",
        "        while current_first.next:\n",
        "            current_first = current_first.next\n",
        "        current_first.next = current_second\n",
        "    else:\n",
        "        second = current_second\n",
        "\n",
        "    return first\n"
      ],
      "metadata": {
        "id": "_twFs73y_bWv"
      },
      "execution_count": 7,
      "outputs": []
    },
    {
      "cell_type": "markdown",
      "source": [
        "Given a singly linked list, find if the linked list is [circular](https://www.geeksforgeeks.org/circular-linked-list/amp/) or not.\n",
        "\n",
        "> A linked list is called circular if it is not NULL-terminated and all nodes are connected in the form of a cycle. Below is an example of a circular linked list.\n",
        ">"
      ],
      "metadata": {
        "id": "8lv3hJ71_wIi"
      }
    },
    {
      "cell_type": "code",
      "source": [
        "def is_circular(head):\n",
        "    if head is None:  # An empty list is not circular\n",
        "        return False\n",
        "\n",
        "    slow = head\n",
        "    fast = head\n",
        "\n",
        "    while fast and fast.next:\n",
        "        slow = slow.next\n",
        "        fast = fast.next.next\n",
        "\n",
        "        if slow == fast:\n",
        "            return True\n",
        "\n",
        "    return False\n"
      ],
      "metadata": {
        "id": "iUbNSCPI_rF2"
      },
      "execution_count": 8,
      "outputs": []
    },
    {
      "cell_type": "code",
      "source": [],
      "metadata": {
        "id": "J5RD6cy0_2lM"
      },
      "execution_count": null,
      "outputs": []
    }
  ]
}