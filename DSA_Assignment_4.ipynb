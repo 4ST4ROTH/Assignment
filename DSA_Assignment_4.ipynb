{
  "nbformat": 4,
  "nbformat_minor": 0,
  "metadata": {
    "colab": {
      "provenance": [],
      "authorship_tag": "ABX9TyN3sT4TaeFOfGvzd3uGf5cU",
      "include_colab_link": true
    },
    "kernelspec": {
      "name": "python3",
      "display_name": "Python 3"
    },
    "language_info": {
      "name": "python"
    }
  },
  "cells": [
    {
      "cell_type": "markdown",
      "metadata": {
        "id": "view-in-github",
        "colab_type": "text"
      },
      "source": [
        "<a href=\"https://colab.research.google.com/github/4ST4ROTH/Assignment/blob/main/DSA_Assignment_4.ipynb\" target=\"_parent\"><img src=\"https://colab.research.google.com/assets/colab-badge.svg\" alt=\"Open In Colab\"/></a>"
      ]
    },
    {
      "cell_type": "markdown",
      "source": [
        "Given three integer arrays arr1, arr2 and arr3 sorted in strictly increasing order, return a sorted array of only the integers that appeared in all three arrays."
      ],
      "metadata": {
        "id": "fh2vJY6U2bzZ"
      }
    },
    {
      "cell_type": "code",
      "execution_count": 1,
      "metadata": {
        "id": "Vei2z1Nj2Khp"
      },
      "outputs": [],
      "source": [
        "def find_common_elements(arr1, arr2, arr3):\n",
        "    i, j, k = 0, 0, 0\n",
        "    result = []\n",
        "\n",
        "    while i < len(arr1) and j < len(arr2) and k < len(arr3):\n",
        "        if arr1[i] == arr2[j] == arr3[k]:\n",
        "            result.append(arr1[i])\n",
        "            i += 1\n",
        "            j += 1\n",
        "            k += 1\n",
        "        elif arr1[i] < arr2[j]:\n",
        "            i += 1\n",
        "        elif arr2[j] < arr3[k]:\n",
        "            j += 1\n",
        "        else:\n",
        "            k += 1\n",
        "\n",
        "    return result\n"
      ]
    },
    {
      "cell_type": "markdown",
      "source": [
        "Given two **0-indexed** integer arrays nums1 and nums2, return *a list* answer *of size* 2 *where:*\n",
        "\n",
        "- answer[0] *is a list of all **distinct** integers in* nums1 *which are **not** present in* nums2*.*\n",
        "- answer[1] *is a list of all **distinct** integers in* nums2 *which are **not** present in* nums1.\n",
        "\n",
        "**Note** that the integers in the lists may be returned in **any** order."
      ],
      "metadata": {
        "id": "qOha60kl2nkc"
      }
    },
    {
      "cell_type": "code",
      "source": [
        "def find_distinct_elements(nums1, nums2):\n",
        "    set1 = set(nums1)\n",
        "    set2 = set(nums2)\n",
        "\n",
        "    distinct_nums1 = list(set1 - set2)\n",
        "    distinct_nums2 = list(set2 - set1)\n",
        "\n",
        "    return [distinct_nums1, distinct_nums2]\n"
      ],
      "metadata": {
        "id": "pM6PdXRv2gqN"
      },
      "execution_count": 2,
      "outputs": []
    },
    {
      "cell_type": "markdown",
      "source": [
        "<aside>\n",
        "💡 Given a 2D integer array matrix, return *the **transpose** of* matrix.\n",
        "\n",
        "The **transpose** of a matrix is the matrix flipped over its main diagonal, switching the matrix's row and column indices.\n",
        "\n",
        "</aside>"
      ],
      "metadata": {
        "id": "AcCCmvPo2xiu"
      }
    },
    {
      "cell_type": "code",
      "source": [
        "def transpose(matrix):\n",
        "    n = len(matrix)\n",
        "    m = len(matrix[0])\n",
        "    result = [[0] * n for _ in range(m)]\n",
        "\n",
        "    for i in range(n):\n",
        "        for j in range(m):\n",
        "            result[j][i] = matrix[i][j]\n",
        "\n",
        "    return result\n"
      ],
      "metadata": {
        "id": "Zv6X-Y3F2uGR"
      },
      "execution_count": 4,
      "outputs": []
    },
    {
      "cell_type": "markdown",
      "source": [
        "<aside>\n",
        "💡 Given an integer array nums of 2n integers, group these integers into n pairs (a1, b1), (a2, b2), ..., (an, bn) such that the sum of min(ai, bi) for all i is **maximized**. Return *the maximized sum*.\n",
        "\n",
        "</aside>"
      ],
      "metadata": {
        "id": "pTdirTGG3CbV"
      }
    },
    {
      "cell_type": "code",
      "source": [
        "def array_pair_sum(nums):\n",
        "    nums.sort()\n",
        "    max_sum = 0\n",
        "\n",
        "    for i in range(0, len(nums), 2):\n",
        "        max_sum += min(nums[i], nums[i+1])\n",
        "\n",
        "    return max_sum\n"
      ],
      "metadata": {
        "id": "pkxOWvbv25c1"
      },
      "execution_count": 5,
      "outputs": []
    },
    {
      "cell_type": "markdown",
      "source": [
        "<aside>\n",
        "💡 You have n coins and you want to build a staircase with these coins. The staircase consists of k rows where the ith row has exactly i coins. The last row of the staircase **may be** incomplete.\n",
        "\n",
        "Given the integer n, return *the number of **complete rows** of the staircase you will build*.\n",
        "\n",
        "</aside>"
      ],
      "metadata": {
        "id": "LOpsj_IV3PRI"
      }
    },
    {
      "cell_type": "code",
      "source": [
        "def arrange_coins(n):\n",
        "    complete_rows = 0\n",
        "    coins_needed = 1\n",
        "\n",
        "    while coins_needed <= n:\n",
        "        complete_rows += 1\n",
        "        n -= coins_needed\n",
        "        coins_needed += 1\n",
        "\n",
        "    return complete_rows\n"
      ],
      "metadata": {
        "id": "a1RP7trM3L28"
      },
      "execution_count": 6,
      "outputs": []
    },
    {
      "cell_type": "markdown",
      "source": [
        "Given an integer array nums sorted in non-decreasing order, return an array of the squares of each number sorted in non-decreasing order."
      ],
      "metadata": {
        "id": "xSnq_s083oGU"
      }
    },
    {
      "cell_type": "code",
      "source": [
        "def sorted_squares(nums):\n",
        "    n = len(nums)\n",
        "    result = [0] * n\n",
        "    left, right = 0, n - 1\n",
        "\n",
        "    while left <= right:\n",
        "        squared_left = nums[left] * nums[left]\n",
        "        squared_right = nums[right] * nums[right]\n",
        "\n",
        "        if squared_left > squared_right:\n",
        "            result[n - 1] = squared_left\n",
        "            left += 1\n",
        "        else:\n",
        "            result[n - 1] = squared_right\n",
        "            right -= 1\n",
        "        n -= 1\n",
        "\n",
        "    # Add any remaining squared values\n",
        "    while right >= 0:\n",
        "        result[n - 1] = nums[right] * nums[right]\n",
        "        right -= 1\n",
        "        n -= 1\n",
        "\n",
        "    return result[::-1]\n"
      ],
      "metadata": {
        "id": "Fo063BGI3lPb"
      },
      "execution_count": 7,
      "outputs": []
    },
    {
      "cell_type": "markdown",
      "source": [
        "<aside>\n",
        "You are given an m x n matrix M initialized with all 0's and an array of operations ops, where ops[i] = [ai, bi] means M[x][y] should be incremented by one for all 0 <= x < ai and 0 <= y < bi.\n",
        "\n",
        "Count and return *the number of maximum integers in the matrix after performing all the operations*\n",
        "\n",
        "</aside>"
      ],
      "metadata": {
        "id": "9v5QXSFw32qe"
      }
    },
    {
      "cell_type": "code",
      "source": [
        "def max_integers(m, n, ops):\n",
        "    min_rows = m\n",
        "    min_cols = n\n",
        "\n",
        "    for op in ops:\n",
        "        min_rows = min(min_rows, op[0])\n",
        "        min_cols = min(min_cols, op[1])\n",
        "\n",
        "    return min_rows * min_cols\n"
      ],
      "metadata": {
        "id": "vNPFiDX83yWA"
      },
      "execution_count": 8,
      "outputs": []
    },
    {
      "cell_type": "markdown",
      "source": [
        "Given the array nums consisting of 2n elements in the form [x1,x2,...,xn,y1,y2,...,yn].\n",
        "\n",
        "*Return the array in the form* [x1,y1,x2,y2,...,xn,yn]."
      ],
      "metadata": {
        "id": "MJvNenf14GF9"
      }
    },
    {
      "cell_type": "code",
      "source": [
        "def rearrange_array(nums):\n",
        "    n = len(nums) // 2\n",
        "    nums1 = nums[:n]\n",
        "    nums2 = nums[n:]\n",
        "    result = []\n",
        "\n",
        "    for i in range(n):\n",
        "        result.append(nums1[i])\n",
        "        result.append(nums2[i])\n",
        "\n",
        "    return result\n"
      ],
      "metadata": {
        "id": "TnMKG-ro3_oa"
      },
      "execution_count": 9,
      "outputs": []
    },
    {
      "cell_type": "code",
      "source": [],
      "metadata": {
        "id": "bmiLucYa4KEt"
      },
      "execution_count": null,
      "outputs": []
    }
  ]
}