{
  "nbformat": 4,
  "nbformat_minor": 0,
  "metadata": {
    "colab": {
      "provenance": [],
      "authorship_tag": "ABX9TyP4swAPgjS/YXbmqHlmOYKE",
      "include_colab_link": true
    },
    "kernelspec": {
      "name": "python3",
      "display_name": "Python 3"
    },
    "language_info": {
      "name": "python"
    }
  },
  "cells": [
    {
      "cell_type": "markdown",
      "metadata": {
        "id": "view-in-github",
        "colab_type": "text"
      },
      "source": [
        "<a href=\"https://colab.research.google.com/github/4ST4ROTH/Assignment/blob/main/DS_Assignment_1.ipynb\" target=\"_parent\"><img src=\"https://colab.research.google.com/assets/colab-badge.svg\" alt=\"Open In Colab\"/></a>"
      ]
    },
    {
      "cell_type": "markdown",
      "source": [
        "1. Write a Python program to reverse a string without using any built-in string reversal functions."
      ],
      "metadata": {
        "id": "OPv2p0KdDyc_"
      }
    },
    {
      "cell_type": "code",
      "execution_count": 1,
      "metadata": {
        "id": "S6ppTSKtDoAE"
      },
      "outputs": [],
      "source": [
        "def reverse_string(a:str)->str:\n",
        "  reverse = a[::-1]\n",
        "  return reverse"
      ]
    },
    {
      "cell_type": "code",
      "source": [
        "string = \"Mohan\"\n",
        "reverse_string(string)"
      ],
      "metadata": {
        "colab": {
          "base_uri": "https://localhost:8080/",
          "height": 35
        },
        "id": "wmpvPPiWEST2",
        "outputId": "060a6513-ecd2-4e7b-f4f6-60e257515495"
      },
      "execution_count": 2,
      "outputs": [
        {
          "output_type": "execute_result",
          "data": {
            "text/plain": [
              "'nahoM'"
            ],
            "application/vnd.google.colaboratory.intrinsic+json": {
              "type": "string"
            }
          },
          "metadata": {},
          "execution_count": 2
        }
      ]
    },
    {
      "cell_type": "markdown",
      "source": [
        "2. Implement a function to check if a given string is a palindrome."
      ],
      "metadata": {
        "id": "FBq32OCBElOP"
      }
    },
    {
      "cell_type": "code",
      "source": [
        "def is_palindrome(a:str)->str:\n",
        "  string = ''.join(char.lower() for char in a if char.isalnum())\n",
        "  return string == string[::-1]\n"
      ],
      "metadata": {
        "id": "d-G7AWp5EpQG"
      },
      "execution_count": 3,
      "outputs": []
    },
    {
      "cell_type": "code",
      "source": [
        "string  = \"Hannah\"\n",
        "is_palindrome(string)"
      ],
      "metadata": {
        "colab": {
          "base_uri": "https://localhost:8080/"
        },
        "id": "-Jd9gt44FuCX",
        "outputId": "ad4caace-37d0-4bcf-c709-77463230f838"
      },
      "execution_count": 4,
      "outputs": [
        {
          "output_type": "execute_result",
          "data": {
            "text/plain": [
              "True"
            ]
          },
          "metadata": {},
          "execution_count": 4
        }
      ]
    },
    {
      "cell_type": "markdown",
      "source": [
        "3. Write a program to find the largest element in a given list."
      ],
      "metadata": {
        "id": "Qc4UUw_3GQJi"
      }
    },
    {
      "cell_type": "code",
      "source": [
        "def is_largest(a:list)->int:\n",
        "  if not a:\n",
        "        return None\n",
        "\n",
        "  largest = a[0]\n",
        "\n",
        "  for element in a:\n",
        "        if element > largest:\n",
        "            largest = element\n",
        "\n",
        "  return largest"
      ],
      "metadata": {
        "id": "DPK3KUuxGU42"
      },
      "execution_count": 7,
      "outputs": []
    },
    {
      "cell_type": "code",
      "source": [
        "a = [5,3,5,7,5,3,5,6,4,5,45,4,5,5]\n",
        "is_largest(a)"
      ],
      "metadata": {
        "colab": {
          "base_uri": "https://localhost:8080/"
        },
        "id": "FM9-eEeqG27G",
        "outputId": "47e91042-f7e8-4c00-bc1d-7f233eabd0d0"
      },
      "execution_count": 8,
      "outputs": [
        {
          "output_type": "execute_result",
          "data": {
            "text/plain": [
              "45"
            ]
          },
          "metadata": {},
          "execution_count": 8
        }
      ]
    },
    {
      "cell_type": "markdown",
      "source": [
        "4. Implement a function to count the occurrence of each element in a list."
      ],
      "metadata": {
        "id": "MAa-5c6iHJ1q"
      }
    },
    {
      "cell_type": "code",
      "source": [
        "def count(a:list)->dict:\n",
        "  counts = {}\n",
        "  for num in a:\n",
        "    if num in counts:\n",
        "      counts[num] += 1\n",
        "    else:\n",
        "      counts[num] = 1\n",
        "  return counts"
      ],
      "metadata": {
        "id": "88IJjLOdHLP1"
      },
      "execution_count": 19,
      "outputs": []
    },
    {
      "cell_type": "code",
      "source": [
        "a = [2,3,5,7,5,4,3,4,5,65,4,3,4,5,3,4,5]\n",
        "count(a)"
      ],
      "metadata": {
        "colab": {
          "base_uri": "https://localhost:8080/"
        },
        "id": "9dPs0c2SJBiy",
        "outputId": "2008bc7f-46c6-4dae-e452-e7f081662f3a"
      },
      "execution_count": 20,
      "outputs": [
        {
          "output_type": "execute_result",
          "data": {
            "text/plain": [
              "{2: 1, 3: 4, 5: 5, 7: 1, 4: 5, 65: 1}"
            ]
          },
          "metadata": {},
          "execution_count": 20
        }
      ]
    },
    {
      "cell_type": "markdown",
      "source": [
        "5. Write a Python program to find the second largest number in a list."
      ],
      "metadata": {
        "id": "bW8iTNokJuCg"
      }
    },
    {
      "cell_type": "code",
      "source": [
        "def second_largestNUM(a:list)->int:\n",
        "  if len(a) < 2:\n",
        "    return a[0]\n",
        "\n",
        "  largest = a[0]\n",
        "  second_largest = None\n",
        "\n",
        "  for num in a[1:]:\n",
        "    if num > largest:\n",
        "      second_largest = largest\n",
        "      largest = num\n",
        "    elif num < largest:\n",
        "      if second_largest is None or num > second_largest:\n",
        "        second_largest = num\n",
        "\n",
        "  return second_largest\n",
        ""
      ],
      "metadata": {
        "id": "QiHDUt3-JzdQ"
      },
      "execution_count": 33,
      "outputs": []
    },
    {
      "cell_type": "code",
      "source": [
        "a = [1,2,3,4,5,7,8,6]\n",
        "second_largestNUM(a)"
      ],
      "metadata": {
        "colab": {
          "base_uri": "https://localhost:8080/"
        },
        "id": "TEfCJqheKSuC",
        "outputId": "7a9ee3da-8a52-40ce-b3c6-a815b0368ab4"
      },
      "execution_count": 34,
      "outputs": [
        {
          "output_type": "execute_result",
          "data": {
            "text/plain": [
              "7"
            ]
          },
          "metadata": {},
          "execution_count": 34
        }
      ]
    },
    {
      "cell_type": "markdown",
      "source": [
        "6. Implement a function to remove duplicate elements from a list."
      ],
      "metadata": {
        "id": "pS_2YAFGNhPO"
      }
    },
    {
      "cell_type": "code",
      "source": [
        "def remove_dupes(a:list)->list:\n",
        "  dup_list = []\n",
        "  for num in a:\n",
        "    if num in dup_list:\n",
        "      a.remove(num)\n",
        "    else:\n",
        "      dup_list.append(num)\n",
        "\n",
        "  return a"
      ],
      "metadata": {
        "id": "ss9FSVW7NjYu"
      },
      "execution_count": 40,
      "outputs": []
    },
    {
      "cell_type": "markdown",
      "source": [
        "7. Write a program to calculate the factorial of a given number."
      ],
      "metadata": {
        "id": "MJP9R5I1adgt"
      }
    },
    {
      "cell_type": "code",
      "source": [
        "def factorial(a:int)->int:\n",
        "\n",
        "  return a * factorial(a-1)"
      ],
      "metadata": {
        "id": "mhYcUXS0acrA"
      },
      "execution_count": 44,
      "outputs": []
    },
    {
      "cell_type": "markdown",
      "source": [
        "8. Implement a function to check if a given number is prime."
      ],
      "metadata": {
        "id": "EizuaxVZbsqC"
      }
    },
    {
      "cell_type": "code",
      "source": [
        "def check_prime(num:int)->int:\n",
        "  if num > 1:\n",
        "    # Iterate from 2 to n / 2\n",
        "    for i in range(2, int(num/2)+1):\n",
        "        # If num is divisible by any number between\n",
        "        # 2 and n / 2, it is not prime\n",
        "        if (num % i) == 0:\n",
        "            print(num, \"is not a prime number\")\n",
        "            break\n",
        "    else:\n",
        "        print(num, \"is a prime number\")\n",
        "  else:\n",
        "\n",
        "    print(num, \"is not a prime number\")"
      ],
      "metadata": {
        "id": "xorXrdi7a4Xh"
      },
      "execution_count": 48,
      "outputs": []
    },
    {
      "cell_type": "markdown",
      "source": [
        "9. Write a Python program to sort a list of integers in ascending order."
      ],
      "metadata": {
        "id": "Xu1MtjFEddTq"
      }
    },
    {
      "cell_type": "code",
      "source": [
        "def sort_asc(a:list)->list:\n",
        "  a.sort\n",
        "  return a"
      ],
      "metadata": {
        "id": "11jeSNpagD2G"
      },
      "execution_count": 51,
      "outputs": []
    },
    {
      "cell_type": "markdown",
      "source": [
        "10. Implement a function to find the sum of all numbers in a list.\n"
      ],
      "metadata": {
        "id": "o4l6czNTvK2u"
      }
    },
    {
      "cell_type": "code",
      "source": [
        "def sum_list(numbers):\n",
        "    total = 0\n",
        "    for num in numbers:\n",
        "        total += num\n",
        "    return total\n",
        "\n"
      ],
      "metadata": {
        "id": "YeRLcOg_vHY8"
      },
      "execution_count": 52,
      "outputs": []
    },
    {
      "cell_type": "markdown",
      "source": [
        "11. Write a program to find the common elements between two lists.\n"
      ],
      "metadata": {
        "id": "LkMR_U3evVS-"
      }
    },
    {
      "cell_type": "code",
      "source": [
        "def find_common_elements(list1, list2):\n",
        "    common_elements = []\n",
        "    for element in list1:\n",
        "        if element in list2:\n",
        "            common_elements.append(element)\n",
        "    return common_elements\n",
        "\n",
        "\n"
      ],
      "metadata": {
        "id": "y7hW8V-BvR3v"
      },
      "execution_count": 53,
      "outputs": []
    },
    {
      "cell_type": "markdown",
      "source": [
        "12. Implement a function to check if a given string is an anagram of another string.\n"
      ],
      "metadata": {
        "id": "QmwC2ylIwXK1"
      }
    },
    {
      "cell_type": "code",
      "source": [
        "def is_anagram(str1, str2):\n",
        "    # Remove whitespace and convert to lowercase\n",
        "    str1 = str1.replace(\" \", \"\").lower()\n",
        "    str2 = str2.replace(\" \", \"\").lower()\n",
        "\n",
        "    # Sort the characters in both strings\n",
        "    sorted_str1 = sorted(str1)\n",
        "    sorted_str2 = sorted(str2)\n",
        "\n",
        "    # Compare the sorted strings\n",
        "    if sorted_str1 == sorted_str2:\n",
        "        return True\n",
        "    else:\n",
        "        return False\n",
        "\n"
      ],
      "metadata": {
        "id": "_lVHpusXwLAF"
      },
      "execution_count": 54,
      "outputs": []
    },
    {
      "cell_type": "markdown",
      "source": [
        "13. Write a Python program to generate all permutations of a given string.\n"
      ],
      "metadata": {
        "id": "MRb0l4NLwY-9"
      }
    },
    {
      "cell_type": "code",
      "source": [
        "import itertools\n",
        "\n",
        "def generate_permutations(string):\n",
        "    # Generate all permutations of the string\n",
        "    permutations = itertools.permutations(string)\n",
        "\n",
        "    # Convert each permutation tuple to a string\n",
        "    permutations = [''.join(permutation) for permutation in permutations]\n",
        "\n",
        "    return permutations\n",
        "\n"
      ],
      "metadata": {
        "id": "Buq5utK5wT70"
      },
      "execution_count": 55,
      "outputs": []
    },
    {
      "cell_type": "markdown",
      "source": [
        "14. Implement a function to calculate the Fibonacci sequence up to a given number of terms.\n"
      ],
      "metadata": {
        "id": "v4eETuiYw6ZS"
      }
    },
    {
      "cell_type": "code",
      "source": [
        "def fibonacci_sequence(n):\n",
        "    sequence = [0, 1]  # Initial terms of the Fibonacci sequence\n",
        "\n",
        "    if n <= 2:\n",
        "        return sequence[:n]  # Return the initial terms if n is 1 or 2\n",
        "\n",
        "    while len(sequence) < n:\n",
        "        next_number = sequence[-1] + sequence[-2]  # Calculate the next Fibonacci number\n",
        "        sequence.append(next_number)  # Add the next number to the sequence\n",
        "\n",
        "    return sequence\n",
        "\n",
        "\n"
      ],
      "metadata": {
        "id": "ZrjGmNgcwq9p"
      },
      "execution_count": 56,
      "outputs": []
    },
    {
      "cell_type": "markdown",
      "source": [
        "15. Write a program to find the median of a list of numbers.\n"
      ],
      "metadata": {
        "id": "fb56XClsxF3t"
      }
    },
    {
      "cell_type": "code",
      "source": [
        "def find_median(numbers):\n",
        "    sorted_numbers = sorted(numbers)\n",
        "    length = len(sorted_numbers)\n",
        "\n",
        "    if length % 2 == 0:\n",
        "        # If the length is even, average the middle two elements\n",
        "        mid_index_1 = length // 2 - 1\n",
        "        mid_index_2 = length // 2\n",
        "        median = (sorted_numbers[mid_index_1] + sorted_numbers[mid_index_2]) / 2\n",
        "    else:\n",
        "        # If the length is odd, take the middle element\n",
        "        mid_index = length // 2\n",
        "        median = sorted_numbers[mid_index]\n",
        "\n",
        "    return median\n"
      ],
      "metadata": {
        "id": "31fhtcWcxCKm"
      },
      "execution_count": 57,
      "outputs": []
    },
    {
      "cell_type": "markdown",
      "source": [
        "16. Implement a function to check if a given list is sorted in non-decreasing order.\n"
      ],
      "metadata": {
        "id": "UF74AzX9xVBr"
      }
    },
    {
      "cell_type": "code",
      "source": [
        "def is_sorted(numbers):\n",
        "    for i in range(len(numbers) - 1):\n",
        "        if numbers[i] > numbers[i + 1]:\n",
        "            return False\n",
        "    return True\n",
        "\n",
        "\n"
      ],
      "metadata": {
        "id": "pVS85fdaxRCY"
      },
      "execution_count": 58,
      "outputs": []
    },
    {
      "cell_type": "markdown",
      "source": [
        "17. Write a Python program to find the intersection of two lists.\n"
      ],
      "metadata": {
        "id": "-vkiTjhWxjMJ"
      }
    },
    {
      "cell_type": "code",
      "source": [
        "def find_intersection(list1, list2):\n",
        "    intersection = list(set(list1) & set(list2))\n",
        "    return intersection\n",
        "\n"
      ],
      "metadata": {
        "id": "RCa1Q3Y4xgAB"
      },
      "execution_count": 59,
      "outputs": []
    },
    {
      "cell_type": "markdown",
      "source": [
        "18. Implement a function to find the maximum subarray sum in a given list.\n"
      ],
      "metadata": {
        "id": "mvDOEjB_xwRg"
      }
    },
    {
      "cell_type": "code",
      "source": [
        "def find_max_subarray_sum(numbers):\n",
        "    max_sum = float('-inf')\n",
        "    current_sum = 0\n",
        "\n",
        "    for num in numbers:\n",
        "        current_sum = max(num, current_sum + num)\n",
        "        max_sum = max(max_sum, current_sum)\n",
        "\n",
        "    return max_sum\n"
      ],
      "metadata": {
        "id": "PIHji02wxtSQ"
      },
      "execution_count": 60,
      "outputs": []
    },
    {
      "cell_type": "markdown",
      "source": [
        "19. Write a program to remove all vowels from a given string.\n"
      ],
      "metadata": {
        "id": "9-laPGu8x-Yg"
      }
    },
    {
      "cell_type": "code",
      "source": [
        "def remove_vowels(string):\n",
        "    vowels = \"aeiouAEIOU\"\n",
        "    vowels_removed = ''.join([char for char in string if char not in vowels])\n",
        "    return vowels_removed\n",
        "\n",
        "\n"
      ],
      "metadata": {
        "id": "tAt7IuyAx5gC"
      },
      "execution_count": 61,
      "outputs": []
    },
    {
      "cell_type": "markdown",
      "source": [
        "20. Implement a function to reverse the order of words in a given sentence.\n"
      ],
      "metadata": {
        "id": "ZAMzAQtVycbk"
      }
    },
    {
      "cell_type": "code",
      "source": [
        "def reverse_words(sentence):\n",
        "    words = sentence.split()\n",
        "    reversed_sentence = ' '.join(words[::-1])\n",
        "    return reversed_sentence\n",
        "\n"
      ],
      "metadata": {
        "id": "xUvjko98yY17"
      },
      "execution_count": 62,
      "outputs": []
    },
    {
      "cell_type": "markdown",
      "source": [
        "21. Write a Python program to check if two strings are anagrams of each other.\n"
      ],
      "metadata": {
        "id": "I0JDsJlJymlR"
      }
    },
    {
      "cell_type": "code",
      "source": [
        "def are_anagrams(str1, str2):\n",
        "    str1 = str1.replace(\" \", \"\").lower()\n",
        "    str2 = str2.replace(\" \", \"\").lower()\n",
        "\n",
        "    if len(str1) != len(str2):\n",
        "        return False\n",
        "\n",
        "    char_count = {}\n",
        "    for char in str1:\n",
        "        if char in char_count:\n",
        "            char_count[char] += 1\n",
        "        else:\n",
        "            char_count[char] = 1\n",
        "\n",
        "    for char in str2:\n",
        "        if char in char_count:\n",
        "            char_count[char] -= 1\n",
        "            if char_count[char] == 0:\n",
        "                del char_count[char]\n",
        "        else:\n",
        "            return False\n",
        "\n",
        "    if len(char_count) == 0:\n",
        "        return True\n",
        "    else:\n",
        "        return False\n",
        "\n",
        "\n"
      ],
      "metadata": {
        "id": "Ufxi3_nAyjF5"
      },
      "execution_count": 63,
      "outputs": []
    },
    {
      "cell_type": "markdown",
      "source": [
        "22. Implement a function to find the first non-repeating character in a string.\n"
      ],
      "metadata": {
        "id": "1rDXeZUUy1c5"
      }
    },
    {
      "cell_type": "code",
      "source": [
        "def find_first_non_repeating_char(string):\n",
        "    char_count = {}\n",
        "\n",
        "    # Count the occurrences of each character\n",
        "    for char in string:\n",
        "        if char in char_count:\n",
        "            char_count[char] += 1\n",
        "        else:\n",
        "            char_count[char] = 1\n",
        "\n",
        "    # Find the first non-repeating character\n",
        "    for char in string:\n",
        "        if char_count[char] == 1:\n",
        "            return char\n",
        "\n",
        "    # If no non-repeating character found\n",
        "    return None\n",
        "\n",
        "\n"
      ],
      "metadata": {
        "id": "0-IWKq8AywgE"
      },
      "execution_count": 64,
      "outputs": []
    },
    {
      "cell_type": "markdown",
      "source": [
        "23. Write a program to find the prime factors of a given number.\n"
      ],
      "metadata": {
        "id": "8gzH1kNuzDLt"
      }
    },
    {
      "cell_type": "code",
      "source": [
        "def find_prime_factors(number):\n",
        "    prime_factors = []\n",
        "    divisor = 2\n",
        "\n",
        "    while divisor <= number:\n",
        "        if number % divisor == 0:\n",
        "            prime_factors.append(divisor)\n",
        "            number = number / divisor\n",
        "        else:\n",
        "            divisor += 1\n",
        "\n",
        "    return prime_factors\n",
        "\n",
        "\n"
      ],
      "metadata": {
        "id": "tt2XCkp1y_0l"
      },
      "execution_count": 65,
      "outputs": []
    },
    {
      "cell_type": "markdown",
      "source": [
        "24. Implement a function to check if a given number is a power of two.\n"
      ],
      "metadata": {
        "id": "iahHULq6zPZV"
      }
    },
    {
      "cell_type": "code",
      "source": [
        "def is_power_of_two(number):\n",
        "    if number <= 0:\n",
        "        return False\n",
        "    return (number & (number - 1)) == 0\n",
        "\n",
        "\n"
      ],
      "metadata": {
        "id": "fwOQdQG5zLx0"
      },
      "execution_count": 66,
      "outputs": []
    },
    {
      "cell_type": "markdown",
      "source": [
        "25. Write a Python program to merge two sorted lists into a single sorted list.\n"
      ],
      "metadata": {
        "id": "Hl1VuP4ozeGf"
      }
    },
    {
      "cell_type": "code",
      "source": [
        "def merge_sorted_lists(list1, list2):\n",
        "    merged_list = []\n",
        "    i = 0  # Index for list1\n",
        "    j = 0  # Index for list2\n",
        "\n",
        "    while i < len(list1) and j < len(list2):\n",
        "        if list1[i] <= list2[j]:\n",
        "            merged_list.append(list1[i])\n",
        "            i += 1\n",
        "        else:\n",
        "            merged_list.append(list2[j])\n",
        "            j += 1\n",
        "\n",
        "    # Append the remaining elements of list1, if any\n",
        "    while i < len(list1):\n",
        "        merged_list.append(list1[i])\n",
        "        i += 1\n",
        "\n",
        "    # Append the remaining elements of list2, if any\n",
        "    while j < len(list2):\n",
        "        merged_list.append(list2[j])\n",
        "        j += 1\n",
        "\n",
        "    return merged_list\n",
        "\n",
        "\n"
      ],
      "metadata": {
        "id": "UDa3GSpAzawm"
      },
      "execution_count": 67,
      "outputs": []
    },
    {
      "cell_type": "code",
      "source": [],
      "metadata": {
        "id": "qvMDkdkmznXi"
      },
      "execution_count": null,
      "outputs": []
    }
  ]
}