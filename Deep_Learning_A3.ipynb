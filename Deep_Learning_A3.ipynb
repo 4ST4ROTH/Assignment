{
  "nbformat": 4,
  "nbformat_minor": 0,
  "metadata": {
    "colab": {
      "provenance": [],
      "authorship_tag": "ABX9TyMaB5TEUcOiAkTs4/156RUe",
      "include_colab_link": true
    },
    "kernelspec": {
      "name": "python3",
      "display_name": "Python 3"
    },
    "language_info": {
      "name": "python"
    }
  },
  "cells": [
    {
      "cell_type": "markdown",
      "metadata": {
        "id": "view-in-github",
        "colab_type": "text"
      },
      "source": [
        "<a href=\"https://colab.research.google.com/github/4ST4ROTH/Assignment/blob/main/Deep_Learning_A3.ipynb\" target=\"_parent\"><img src=\"https://colab.research.google.com/assets/colab-badge.svg\" alt=\"Open In Colab\"/></a>"
      ]
    },
    {
      "cell_type": "code",
      "execution_count": 1,
      "metadata": {
        "id": "EDZ0wth3H3rO"
      },
      "outputs": [],
      "source": [
        "import tensorflow as tf\n",
        "from tensorflow.keras import layers"
      ]
    },
    {
      "cell_type": "code",
      "source": [
        "# Load and preprocess the MNIST dataset\n",
        "(train_images, train_labels), (test_images, test_labels) = tf.keras.datasets.mnist.load_data()\n",
        "train_images = train_images.reshape((60000, 28, 28, 1))\n",
        "test_images = test_images.reshape((10000, 28, 28, 1))\n",
        "train_images, test_images = train_images / 255.0, test_images / 255.0"
      ],
      "metadata": {
        "colab": {
          "base_uri": "https://localhost:8080/"
        },
        "id": "uX1YBnNqJFBO",
        "outputId": "a69c6138-5bb1-4fea-e28b-3aec591f3ba3"
      },
      "execution_count": 2,
      "outputs": [
        {
          "output_type": "stream",
          "name": "stdout",
          "text": [
            "Downloading data from https://storage.googleapis.com/tensorflow/tf-keras-datasets/mnist.npz\n",
            "11490434/11490434 [==============================] - 0s 0us/step\n"
          ]
        }
      ]
    },
    {
      "cell_type": "code",
      "source": [
        "# Define the CNN model\n",
        "model = tf.keras.models.Sequential([\n",
        "    layers.Conv2D(16, (3, 3), activation='relu', input_shape=(28, 28, 1)),\n",
        "    layers.MaxPooling2D((2, 2)),\n",
        "    layers.Conv2D(32, (3, 3), activation='relu'),\n",
        "    layers.MaxPooling2D((2, 2)),\n",
        "    layers.Flatten(),\n",
        "    layers.Dense(128, activation='relu'),\n",
        "    layers.Dense(10)\n",
        "])"
      ],
      "metadata": {
        "id": "iMoXmxnuJHyW"
      },
      "execution_count": 3,
      "outputs": []
    },
    {
      "cell_type": "code",
      "source": [
        "# Compile the model\n",
        "model.compile(optimizer='adam',\n",
        "              loss=tf.keras.losses.SparseCategoricalCrossentropy(from_logits=True),\n",
        "              metrics=['accuracy'])\n"
      ],
      "metadata": {
        "id": "kseDqMPdJPvM"
      },
      "execution_count": 4,
      "outputs": []
    },
    {
      "cell_type": "code",
      "source": [
        "# Train the model\n",
        "history = model.fit(train_images, train_labels, epochs=10, batch_size=64, validation_data=(test_images, test_labels))\n"
      ],
      "metadata": {
        "colab": {
          "base_uri": "https://localhost:8080/"
        },
        "id": "Uk4MF37EJSJT",
        "outputId": "16be25a0-582a-4567-9acd-a534b14374c0"
      },
      "execution_count": 5,
      "outputs": [
        {
          "output_type": "stream",
          "name": "stdout",
          "text": [
            "Epoch 1/10\n",
            "938/938 [==============================] - 37s 38ms/step - loss: 0.1879 - accuracy: 0.9446 - val_loss: 0.0587 - val_accuracy: 0.9801\n",
            "Epoch 2/10\n",
            "938/938 [==============================] - 36s 39ms/step - loss: 0.0596 - accuracy: 0.9813 - val_loss: 0.0459 - val_accuracy: 0.9852\n",
            "Epoch 3/10\n",
            "938/938 [==============================] - 35s 38ms/step - loss: 0.0416 - accuracy: 0.9872 - val_loss: 0.0356 - val_accuracy: 0.9885\n",
            "Epoch 4/10\n",
            "938/938 [==============================] - 37s 39ms/step - loss: 0.0315 - accuracy: 0.9902 - val_loss: 0.0361 - val_accuracy: 0.9876\n",
            "Epoch 5/10\n",
            "938/938 [==============================] - 37s 39ms/step - loss: 0.0247 - accuracy: 0.9920 - val_loss: 0.0278 - val_accuracy: 0.9908\n",
            "Epoch 6/10\n",
            "938/938 [==============================] - 36s 38ms/step - loss: 0.0202 - accuracy: 0.9938 - val_loss: 0.0299 - val_accuracy: 0.9903\n",
            "Epoch 7/10\n",
            "938/938 [==============================] - 35s 37ms/step - loss: 0.0159 - accuracy: 0.9948 - val_loss: 0.0421 - val_accuracy: 0.9870\n",
            "Epoch 8/10\n",
            "938/938 [==============================] - 36s 38ms/step - loss: 0.0133 - accuracy: 0.9957 - val_loss: 0.0325 - val_accuracy: 0.9900\n",
            "Epoch 9/10\n",
            "938/938 [==============================] - 37s 39ms/step - loss: 0.0096 - accuracy: 0.9969 - val_loss: 0.0343 - val_accuracy: 0.9917\n",
            "Epoch 10/10\n",
            "938/938 [==============================] - 35s 37ms/step - loss: 0.0105 - accuracy: 0.9963 - val_loss: 0.0346 - val_accuracy: 0.9896\n"
          ]
        }
      ]
    },
    {
      "cell_type": "code",
      "source": [
        "# Evaluate the model\n",
        "test_loss, test_acc = model.evaluate(test_images, test_labels, verbose=2)\n",
        "print(f'Test accuracy: {test_acc:.2f}%')"
      ],
      "metadata": {
        "colab": {
          "base_uri": "https://localhost:8080/"
        },
        "id": "Nx3aXOLoJUVc",
        "outputId": "24b4e6ca-e972-4874-9fad-17a96ab9f0e9"
      },
      "execution_count": 6,
      "outputs": [
        {
          "output_type": "stream",
          "name": "stdout",
          "text": [
            "313/313 - 3s - loss: 0.0346 - accuracy: 0.9896 - 3s/epoch - 9ms/step\n",
            "Test accuracy: 0.99%\n"
          ]
        }
      ]
    },
    {
      "cell_type": "code",
      "source": [],
      "metadata": {
        "id": "rbi9mtreJU6h"
      },
      "execution_count": null,
      "outputs": []
    }
  ]
}