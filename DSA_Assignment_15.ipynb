{
  "nbformat": 4,
  "nbformat_minor": 0,
  "metadata": {
    "colab": {
      "provenance": [],
      "authorship_tag": "ABX9TyOglXQFnnf9Za2vd11B1xiy",
      "include_colab_link": true
    },
    "kernelspec": {
      "name": "python3",
      "display_name": "Python 3"
    },
    "language_info": {
      "name": "python"
    }
  },
  "cells": [
    {
      "cell_type": "markdown",
      "metadata": {
        "id": "view-in-github",
        "colab_type": "text"
      },
      "source": [
        "<a href=\"https://colab.research.google.com/github/4ST4ROTH/Assignment/blob/main/DSA_Assignment_15.ipynb\" target=\"_parent\"><img src=\"https://colab.research.google.com/assets/colab-badge.svg\" alt=\"Open In Colab\"/></a>"
      ]
    },
    {
      "cell_type": "markdown",
      "source": [
        "Given an array arr[ ] of size N having elements, the task is to find the next greater element for each element of the array in order of their appearance in the array.Next greater element of an element in the array is the nearest element on the right which is greater than the current element.If there does not exist next greater of current element, then next greater element for current element is -1. For example, next greater of the last element is always -1."
      ],
      "metadata": {
        "id": "oiHv3NOBATRN"
      }
    },
    {
      "cell_type": "code",
      "execution_count": 13,
      "metadata": {
        "id": "dYPtjzLBAOcv"
      },
      "outputs": [],
      "source": [
        "def next_greater_element(arr):\n",
        "    stack = []\n",
        "    result = [-1] * len(arr)\n",
        "\n",
        "    for i in range(len(arr) - 1, -1, -1):\n",
        "        while stack and stack[-1] <= arr[i]:\n",
        "            stack.pop()\n",
        "\n",
        "        if stack:\n",
        "            result[i] = stack[-1]\n",
        "\n",
        "        stack.append(arr[i])\n",
        "\n",
        "    return result\n"
      ]
    },
    {
      "cell_type": "markdown",
      "source": [
        "Given an array a of integers of length n, find the nearest smaller number for every element such that the smaller element is on left side.If no small element present on the left print -1."
      ],
      "metadata": {
        "id": "mhmChwK3AiB2"
      }
    },
    {
      "cell_type": "code",
      "source": [
        "def nearest_smaller_on_left(a):\n",
        "    stack = []\n",
        "    result = [-1] * len(a)\n",
        "\n",
        "    for i in range(len(a)):\n",
        "        while stack and stack[-1] >= a[i]:\n",
        "            stack.pop()\n",
        "\n",
        "        if stack:\n",
        "            result[i] = stack[-1]\n",
        "\n",
        "        stack.append(a[i])\n",
        "\n",
        "    return result\n"
      ],
      "metadata": {
        "id": "axLZIi8CAdFt"
      },
      "execution_count": 14,
      "outputs": []
    },
    {
      "cell_type": "markdown",
      "source": [
        "Implement a Stack using two queues q1 and q2."
      ],
      "metadata": {
        "id": "fnRJ01WWBRYl"
      }
    },
    {
      "cell_type": "code",
      "source": [
        "class Stack:\n",
        "    def __init__(self):\n",
        "        self.q1 = []\n",
        "        self.q2 = []\n",
        "\n",
        "    def push(self, x):\n",
        "        # Move all elements from q1 to q2\n",
        "        while self.q1:\n",
        "            self.q2.append(self.q1.pop(0))\n",
        "\n",
        "        # Add the new element to q1\n",
        "        self.q1.append(x)\n",
        "\n",
        "        # Move all elements back to q1 from q2\n",
        "        while self.q2:\n",
        "            self.q1.append(self.q2.pop(0))\n",
        "\n",
        "    def pop(self):\n",
        "        if self.is_empty():\n",
        "            return None\n",
        "\n",
        "        # Pop and return the top element from q1\n",
        "        return self.q1.pop(0)\n",
        "\n",
        "    def top(self):\n",
        "        if self.is_empty():\n",
        "            return None\n",
        "\n",
        "        # Return the top element from q1\n",
        "        return self.q1[0]\n",
        "\n",
        "    def is_empty(self):\n",
        "        # Check if q1 is empty\n",
        "        return len(self.q1) == 0\n"
      ],
      "metadata": {
        "id": "SCUB3Yk3BLoa"
      },
      "execution_count": 15,
      "outputs": []
    },
    {
      "cell_type": "markdown",
      "source": [
        "You are given a stack St. You have to reverse the stack using recursion."
      ],
      "metadata": {
        "id": "JjJk6NJVBk5Z"
      }
    },
    {
      "cell_type": "code",
      "source": [
        "def reverse_stack(stack):\n",
        "    if len(stack) <= 1:\n",
        "        return stack\n",
        "\n",
        "    top_element = stack.pop()\n",
        "    reverse_stack(stack)\n",
        "    insert_at_bottom(stack, top_element)\n",
        "\n",
        "    return stack\n",
        "\n",
        "\n",
        "def insert_at_bottom(stack, element):\n",
        "    if len(stack) == 0:\n",
        "        stack.append(element)\n",
        "    else:\n",
        "        top_element = stack.pop()\n",
        "        insert_at_bottom(stack, element)\n",
        "        stack.append(top_element)\n",
        "\n",
        "\n",
        "\n",
        "stack = [1, 2, 3, 4, 5]\n",
        "reversed_stack = reverse_stack(stack)\n",
        "print(reversed_stack)\n",
        "\n"
      ],
      "metadata": {
        "colab": {
          "base_uri": "https://localhost:8080/"
        },
        "id": "bkdPcz4PBgvz",
        "outputId": "65e3e34f-eb98-423e-f1c3-46b85dabc57d"
      },
      "execution_count": 16,
      "outputs": [
        {
          "output_type": "stream",
          "name": "stdout",
          "text": [
            "[5, 4, 3, 2, 1]\n"
          ]
        }
      ]
    },
    {
      "cell_type": "markdown",
      "source": [
        "You are given a string S, the task is to reverse the string using stack."
      ],
      "metadata": {
        "id": "u6QOUNhVB24K"
      }
    },
    {
      "cell_type": "code",
      "source": [
        "def reverse_string(S):\n",
        "    stack = []\n",
        "\n",
        "    # Push each character onto the stack\n",
        "    for char in S:\n",
        "        stack.append(char)\n",
        "\n",
        "    reversed_string = \"\"\n",
        "\n",
        "    # Pop each character from the stack and append it to reversed_string\n",
        "    while stack:\n",
        "        reversed_string += stack.pop()\n",
        "\n",
        "    return reversed_string\n",
        "\n",
        "\n"
      ],
      "metadata": {
        "id": "eM_LWApZBxKp"
      },
      "execution_count": 17,
      "outputs": []
    },
    {
      "cell_type": "markdown",
      "source": [
        "Given string S representing a postfix expression, the task is to evaluate the expression and find the final value. Operators will only include the basic arithmetic operators like *, /, + and -."
      ],
      "metadata": {
        "id": "OnnssGm6CKSN"
      }
    },
    {
      "cell_type": "code",
      "source": [
        "def evaluate_postfix(S):\n",
        "    stack = []\n",
        "\n",
        "    for char in S:\n",
        "        if char.isdigit():\n",
        "            stack.append(int(char))\n",
        "        else:\n",
        "            operand2 = stack.pop()\n",
        "            operand1 = stack.pop()\n",
        "            result = perform_operation(operand1, operand2, char)\n",
        "            stack.append(result)\n",
        "\n",
        "    return stack.pop()\n",
        "\n",
        "\n",
        "def perform_operation(operand1, operand2, operator):\n",
        "    if operator == '*':\n",
        "        return operand1 * operand2\n",
        "    elif operator == '/':\n",
        "        return operand1 / operand2\n",
        "    elif operator == '+':\n",
        "        return operand1 + operand2\n",
        "    elif operator == '-':\n",
        "        return operand1 - operand2\n",
        "\n",
        "\n",
        "S = \"82*3+\"\n",
        "result = evaluate_postfix(S)\n",
        "print(result)\n",
        "\n"
      ],
      "metadata": {
        "colab": {
          "base_uri": "https://localhost:8080/"
        },
        "id": "4WohxylzCBSb",
        "outputId": "7c25cb0d-4e67-4602-f94c-4233af921d04"
      },
      "execution_count": 18,
      "outputs": [
        {
          "output_type": "stream",
          "name": "stdout",
          "text": [
            "19\n"
          ]
        }
      ]
    },
    {
      "cell_type": "markdown",
      "source": [
        "Design a stack that supports push, pop, top, and retrieving the minimum element in constant time.\n",
        "\n",
        "Implement the `MinStack` class:\n",
        "\n",
        "- `MinStack()` initializes the stack object.\n",
        "- `void push(int val)` pushes the element `val` onto the stack.\n",
        "- `void pop()` removes the element on the top of the stack.\n",
        "- `int top()` gets the top element of the stack.\n",
        "- `int getMin()` retrieves the minimum element in the stack.\n",
        "\n",
        "You must implement a solution with `O(1)` time complexity for each function."
      ],
      "metadata": {
        "id": "P3QRM0zzCdN1"
      }
    },
    {
      "cell_type": "code",
      "source": [
        "class MinStack:\n",
        "    def __init__(self):\n",
        "        self.stack = []\n",
        "        self.min_stack = []\n",
        "\n",
        "    def push(self, val):\n",
        "        self.stack.append(val)\n",
        "\n",
        "        if not self.min_stack or val <= self.min_stack[-1]:\n",
        "            self.min_stack.append(val)\n",
        "\n",
        "    def pop(self):\n",
        "        if self.stack[-1] == self.min_stack[-1]:\n",
        "            self.min_stack.pop()\n",
        "\n",
        "        return self.stack.pop()\n",
        "\n",
        "    def top(self):\n",
        "        return self.stack[-1]\n",
        "\n",
        "    def getMin(self):\n",
        "        return self.min_stack[-1]\n",
        "\n",
        "\n",
        "\n",
        "minStack = MinStack()\n",
        "minStack.push(-2)\n",
        "minStack.push(0)\n",
        "minStack.push(-3)\n",
        "print(minStack.getMin())\n",
        "print(minStack.pop())\n",
        "print(minStack.top())\n",
        "print(minStack.getMin())\n"
      ],
      "metadata": {
        "colab": {
          "base_uri": "https://localhost:8080/"
        },
        "id": "-esw3-uJCSd7",
        "outputId": "063b19c8-ef3f-4065-f551-9240f59cb05b"
      },
      "execution_count": 19,
      "outputs": [
        {
          "output_type": "stream",
          "name": "stdout",
          "text": [
            "-3\n",
            "-3\n",
            "0\n",
            "-2\n"
          ]
        }
      ]
    },
    {
      "cell_type": "markdown",
      "source": [
        "Given n non-negative integers representing an elevation map where the width of each bar is 1, compute how much water it can trap after raining."
      ],
      "metadata": {
        "id": "vjTQ78VkC8n9"
      }
    },
    {
      "cell_type": "code",
      "source": [
        "def trap_water(heights):\n",
        "    left = 0\n",
        "    right = len(heights) - 1\n",
        "    left_max = right_max = total_water = 0\n",
        "\n",
        "    while left <= right:\n",
        "        if heights[left] <= heights[right]:\n",
        "            if heights[left] > left_max:\n",
        "                left_max = heights[left]\n",
        "            else:\n",
        "                total_water += left_max - heights[left]\n",
        "            left += 1\n",
        "        else:\n",
        "            if heights[right] > right_max:\n",
        "                right_max = heights[right]\n",
        "            else:\n",
        "                total_water += right_max - heights[right]\n",
        "            right -= 1\n",
        "\n",
        "    return total_water\n"
      ],
      "metadata": {
        "id": "9eQsBcX5Ctlb"
      },
      "execution_count": 20,
      "outputs": []
    },
    {
      "cell_type": "code",
      "source": [
        "\n",
        "heights = [0, 1, 0, 2, 1, 0, 1, 3, 2, 1, 2, 1]\n",
        "water_trapped = trap_water(heights)\n",
        "print(water_trapped)\n",
        "\n"
      ],
      "metadata": {
        "colab": {
          "base_uri": "https://localhost:8080/"
        },
        "id": "_aua0hNyDZmo",
        "outputId": "08994eeb-dbcb-481a-ad77-6e1f1934ff90"
      },
      "execution_count": 21,
      "outputs": [
        {
          "output_type": "stream",
          "name": "stdout",
          "text": [
            "6\n"
          ]
        }
      ]
    },
    {
      "cell_type": "code",
      "source": [],
      "metadata": {
        "id": "tteyETIGDdHd"
      },
      "execution_count": 21,
      "outputs": []
    }
  ]
}