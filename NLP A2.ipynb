{
 "cells": [
  {
   "cell_type": "code",
   "execution_count": 8,
   "id": "07a27625",
   "metadata": {},
   "outputs": [
    {
     "name": "stdout",
     "output_type": "stream",
     "text": [
      "Requirement already satisfied: PyPDF2 in c:\\users\\singh\\anaconda3\\lib\\site-packages (3.0.1)\n",
      "Requirement already satisfied: pandas in c:\\users\\singh\\anaconda3\\lib\\site-packages (1.3.4)\n",
      "Requirement already satisfied: typing_extensions>=3.10.0.0 in c:\\users\\singh\\anaconda3\\lib\\site-packages (from PyPDF2) (3.10.0.2)\n",
      "Requirement already satisfied: python-dateutil>=2.7.3 in c:\\users\\singh\\anaconda3\\lib\\site-packages (from pandas) (2.8.2)\n",
      "Requirement already satisfied: numpy>=1.17.3 in c:\\users\\singh\\anaconda3\\lib\\site-packages (from pandas) (1.22.4)\n",
      "Requirement already satisfied: pytz>=2017.3 in c:\\users\\singh\\anaconda3\\lib\\site-packages (from pandas) (2021.3)\n",
      "Requirement already satisfied: six>=1.5 in c:\\users\\singh\\anaconda3\\lib\\site-packages (from python-dateutil>=2.7.3->pandas) (1.12.0)\n"
     ]
    }
   ],
   "source": [
    "!pip install PyPDF2 pandas"
   ]
  },
  {
   "cell_type": "code",
   "execution_count": 9,
   "id": "25edf1a7",
   "metadata": {},
   "outputs": [],
   "source": [
    "import PyPDF2\n",
    "import pandas as pd\n",
    "from collections import Counter\n",
    "import os\n"
   ]
  },
  {
   "cell_type": "code",
   "execution_count": 10,
   "id": "33db0bf6",
   "metadata": {},
   "outputs": [],
   "source": [
    "#Open the PDF file and read its contents\n",
    "pdf_path = \"Data Science (1).pdf\"\n",
    "\n",
    "with open(pdf_path, \"rb\") as file:\n",
    "    pdf_reader = PyPDF2.PdfReader(file)\n",
    "    num_pages = len(pdf_reader.pages)\n",
    "    text = \"\"\n",
    "    for page_number in range(num_pages):\n",
    "        page = pdf_reader.pages[page_number]\n",
    "        text += page.extract_text()"
   ]
  },
  {
   "cell_type": "code",
   "execution_count": 11,
   "id": "81f83c46",
   "metadata": {},
   "outputs": [],
   "source": [
    "#tokenize the text\n",
    "words = text.split()\n"
   ]
  },
  {
   "cell_type": "code",
   "execution_count": 12,
   "id": "6e4ed3b5",
   "metadata": {},
   "outputs": [],
   "source": [
    "word_counts = Counter(words)\n"
   ]
  },
  {
   "cell_type": "code",
   "execution_count": 13,
   "id": "2167d013",
   "metadata": {},
   "outputs": [],
   "source": [
    "#find most repeated word\n",
    "most_common_word = word_counts.most_common(1)[0][0]\n"
   ]
  },
  {
   "cell_type": "code",
   "execution_count": null,
   "id": "cb58857c",
   "metadata": {},
   "outputs": [],
   "source": [
    "#Store the extracted text and word counts as csv file\n",
    "csv_path = os.curdir\n",
    "\n",
    "data = {\n",
    "    \"Word\": list(word_counts.keys()),\n",
    "    \"Count\": list(word_counts.values())\n",
    "}\n",
    "\n",
    "df = pd.DataFrame(data)\n",
    "df.to_csv(csv_path, index=False)"
   ]
  },
  {
   "cell_type": "code",
   "execution_count": 14,
   "id": "1779831b",
   "metadata": {},
   "outputs": [
    {
     "data": {
      "text/html": [
       "<div>\n",
       "<style scoped>\n",
       "    .dataframe tbody tr th:only-of-type {\n",
       "        vertical-align: middle;\n",
       "    }\n",
       "\n",
       "    .dataframe tbody tr th {\n",
       "        vertical-align: top;\n",
       "    }\n",
       "\n",
       "    .dataframe thead th {\n",
       "        text-align: right;\n",
       "    }\n",
       "</style>\n",
       "<table border=\"1\" class=\"dataframe\">\n",
       "  <thead>\n",
       "    <tr style=\"text-align: right;\">\n",
       "      <th></th>\n",
       "      <th>Word</th>\n",
       "      <th>Count</th>\n",
       "    </tr>\n",
       "  </thead>\n",
       "  <tbody>\n",
       "    <tr>\n",
       "      <th>0</th>\n",
       "      <td>Python</td>\n",
       "      <td>1</td>\n",
       "    </tr>\n",
       "    <tr>\n",
       "      <th>1</th>\n",
       "      <td>T</td>\n",
       "      <td>6</td>\n",
       "    </tr>\n",
       "    <tr>\n",
       "      <th>2</th>\n",
       "      <td>o</td>\n",
       "      <td>26</td>\n",
       "    </tr>\n",
       "    <tr>\n",
       "      <th>3</th>\n",
       "      <td>t</td>\n",
       "      <td>20</td>\n",
       "    </tr>\n",
       "    <tr>\n",
       "      <th>4</th>\n",
       "      <td>a</td>\n",
       "      <td>69</td>\n",
       "    </tr>\n",
       "    <tr>\n",
       "      <th>...</th>\n",
       "      <td>...</td>\n",
       "      <td>...</td>\n",
       "    </tr>\n",
       "    <tr>\n",
       "      <th>663</th>\n",
       "      <td>submit</td>\n",
       "      <td>1</td>\n",
       "    </tr>\n",
       "    <tr>\n",
       "      <th>664</th>\n",
       "      <td>final</td>\n",
       "      <td>1</td>\n",
       "    </tr>\n",
       "    <tr>\n",
       "      <th>665</th>\n",
       "      <td>(google</td>\n",
       "      <td>1</td>\n",
       "    </tr>\n",
       "    <tr>\n",
       "      <th>666</th>\n",
       "      <td>doc</td>\n",
       "      <td>1</td>\n",
       "    </tr>\n",
       "    <tr>\n",
       "      <th>667</th>\n",
       "      <td>answers)</td>\n",
       "      <td>1</td>\n",
       "    </tr>\n",
       "  </tbody>\n",
       "</table>\n",
       "<p>668 rows × 2 columns</p>\n",
       "</div>"
      ],
      "text/plain": [
       "         Word  Count\n",
       "0      Python      1\n",
       "1           T      6\n",
       "2           o     26\n",
       "3           t     20\n",
       "4           a     69\n",
       "..        ...    ...\n",
       "663    submit      1\n",
       "664     final      1\n",
       "665   (google      1\n",
       "666       doc      1\n",
       "667  answers)      1\n",
       "\n",
       "[668 rows x 2 columns]"
      ]
     },
     "execution_count": 14,
     "metadata": {},
     "output_type": "execute_result"
    }
   ],
   "source": [
    "df"
   ]
  },
  {
   "cell_type": "code",
   "execution_count": null,
   "id": "bc86f316",
   "metadata": {},
   "outputs": [],
   "source": []
  }
 ],
 "metadata": {
  "kernelspec": {
   "display_name": "Python 3 (ipykernel)",
   "language": "python",
   "name": "python3"
  },
  "language_info": {
   "codemirror_mode": {
    "name": "ipython",
    "version": 3
   },
   "file_extension": ".py",
   "mimetype": "text/x-python",
   "name": "python",
   "nbconvert_exporter": "python",
   "pygments_lexer": "ipython3",
   "version": "3.9.7"
  }
 },
 "nbformat": 4,
 "nbformat_minor": 5
}
