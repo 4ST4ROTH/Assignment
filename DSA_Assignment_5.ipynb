{
  "nbformat": 4,
  "nbformat_minor": 0,
  "metadata": {
    "colab": {
      "provenance": [],
      "authorship_tag": "ABX9TyOJy2PjkP5R1hGJ5w7Mvr3C",
      "include_colab_link": true
    },
    "kernelspec": {
      "name": "python3",
      "display_name": "Python 3"
    },
    "language_info": {
      "name": "python"
    }
  },
  "cells": [
    {
      "cell_type": "markdown",
      "metadata": {
        "id": "view-in-github",
        "colab_type": "text"
      },
      "source": [
        "<a href=\"https://colab.research.google.com/github/4ST4ROTH/Assignment/blob/main/DSA_Assignment_5.ipynb\" target=\"_parent\"><img src=\"https://colab.research.google.com/assets/colab-badge.svg\" alt=\"Open In Colab\"/></a>"
      ]
    },
    {
      "cell_type": "markdown",
      "source": [
        "Convert 1D Array Into 2D Array\n",
        "\n",
        "You are given a **0-indexed** 1-dimensional (1D) integer array original, and two integers, m and n. You are tasked with creating a 2-dimensional (2D) array with  m rows and n columns using **all** the elements from original.\n",
        "\n",
        "The elements from indices 0 to n - 1 (**inclusive**) of original should form the first row of the constructed 2D array, the elements from indices n to 2 * n - 1 (**inclusive**) should form the second row of the constructed 2D array, and so on.\n",
        "\n",
        "Return *an* m x n *2D array constructed according to the above procedure, or an empty 2D array if it is impossible*."
      ],
      "metadata": {
        "id": "hWFEEzUp5LKS"
      }
    },
    {
      "cell_type": "code",
      "execution_count": 1,
      "metadata": {
        "id": "LSPHr0rn4mD6"
      },
      "outputs": [],
      "source": [
        "def convert_to_2d_array(original, m, n):\n",
        "    array_length = len(original)\n",
        "    if array_length != m * n:\n",
        "        return []\n",
        "\n",
        "    result = [[0] * n for _ in range(m)]\n",
        "\n",
        "    for i in range(array_length):\n",
        "        row = i // n\n",
        "        col = i % n\n",
        "        result[row][col] = original[i]\n",
        "\n",
        "    return result\n"
      ]
    },
    {
      "cell_type": "markdown",
      "source": [
        "You have n coins and you want to build a staircase with these coins. The staircase consists of k rows where the ith row has exactly i coins. The last row of the staircase **may be** incomplete.\n",
        "\n",
        "Given the integer n, return *the number of **complete rows** of the staircase you will build*."
      ],
      "metadata": {
        "id": "ynmogyQG5ray"
      }
    },
    {
      "cell_type": "code",
      "source": [
        "def arrange_coins(n):\n",
        "    left, right = 0, n\n",
        "\n",
        "    while left <= right:\n",
        "        mid = (left + right) // 2\n",
        "        total_coins = mid * (mid + 1) // 2\n",
        "\n",
        "        if total_coins <= n:\n",
        "            left = mid + 1\n",
        "        else:\n",
        "            right = mid - 1\n",
        "\n",
        "    return left - 1\n"
      ],
      "metadata": {
        "id": "9tJzzcwm5mge"
      },
      "execution_count": 2,
      "outputs": []
    },
    {
      "cell_type": "markdown",
      "source": [
        "Given an integer array nums sorted in non-decreasing order, return an array of the squares of each number sorted in non-decreasing order."
      ],
      "metadata": {
        "id": "zxKxTd1P51Iw"
      }
    },
    {
      "cell_type": "code",
      "source": [
        "def sorted_squares(nums):\n",
        "    n = len(nums)\n",
        "    result = [0] * n\n",
        "    left, right = 0, n - 1\n",
        "\n",
        "    while left <= right:\n",
        "        squared_left = nums[left] * nums[left]\n",
        "        squared_right = nums[right] * nums[right]\n",
        "\n",
        "        if squared_left <= squared_right:\n",
        "            result[right - left] = squared_right\n",
        "            right -= 1\n",
        "        else:\n",
        "            result[right - left] = squared_left\n",
        "            left += 1\n",
        "\n",
        "    return result\n"
      ],
      "metadata": {
        "id": "vFyxIJ9W5xFJ"
      },
      "execution_count": 3,
      "outputs": []
    },
    {
      "cell_type": "markdown",
      "source": [
        "Given two **0-indexed** integer arrays nums1 and nums2, return *a list* answer *of size* 2 *where:*\n",
        "\n",
        "- answer[0] *is a list of all **distinct** integers in* nums1 *which are **not** present in* nums2*.*\n",
        "- answer[1] *is a list of all **distinct** integers in* nums2 *which are **not** present in* nums1.\n",
        "\n",
        "**Note** that the integers in the lists may be returned in **any** order.\n",
        "\n",
        "**Example 1:**\n",
        "\n",
        "**Input:** nums1 = [1,2,3], nums2 = [2,4,6]\n",
        "\n",
        "**Output:** [[1,3],[4,6]]\n",
        "\n",
        "**Explanation:**\n",
        "\n",
        "For nums1, nums1[1] = 2 is present at index 0 of nums2, whereas nums1[0] = 1 and nums1[2] = 3 are not present in nums2. Therefore, answer[0] = [1,3].\n",
        "\n",
        "For nums2, nums2[0] = 2 is present at index 1 of nums1, whereas nums2[1] = 4 and nums2[2] = 6 are not present in nums2. Therefore, answer[1] = [4,6].\n"
      ],
      "metadata": {
        "id": "pJTzks065_oA"
      }
    },
    {
      "cell_type": "code",
      "source": [
        "def find_distinct_elements(nums1, nums2):\n",
        "    set1 = set(nums1)\n",
        "    set2 = set(nums2)\n",
        "\n",
        "    distinct_nums1 = list(set1 - set2)\n",
        "    distinct_nums2 = list(set2 - set1)\n",
        "\n",
        "    return [distinct_nums1, distinct_nums2]\n"
      ],
      "metadata": {
        "id": "2NZcEJlu56dc"
      },
      "execution_count": 4,
      "outputs": []
    },
    {
      "cell_type": "markdown",
      "source": [
        "Given two integer arrays arr1 and arr2, and the integer d, *return the distance value between the two arrays*.\n",
        "\n",
        "The distance value is defined as the number of elements arr1[i] such that there is not any element arr2[j] where |arr1[i]-arr2[j]| <= d.\n",
        "\n",
        "**Example 1:**\n",
        "\n",
        "**Input:** arr1 = [4,5,8], arr2 = [10,9,1,8], d = 2\n",
        "\n",
        "**Output:** 2\n",
        "\n",
        "**Explanation:**\n",
        "\n",
        "For arr1[0]=4 we have:\n",
        "\n",
        "|4-10|=6 > d=2\n",
        "\n",
        "|4-9|=5 > d=2\n",
        "\n",
        "|4-1|=3 > d=2\n",
        "\n",
        "|4-8|=4 > d=2\n",
        "\n",
        "For arr1[1]=5 we have:\n",
        "\n",
        "|5-10|=5 > d=2\n",
        "\n",
        "|5-9|=4 > d=2\n",
        "\n",
        "|5-1|=4 > d=2\n",
        "\n",
        "|5-8|=3 > d=2\n",
        "\n",
        "For arr1[2]=8 we have:\n",
        "\n",
        "**|8-10|=2 <= d=2**\n",
        "\n",
        "**|8-9|=1 <= d=2**\n",
        "\n",
        "|8-1|=7 > d=2\n",
        "\n",
        "**|8-8|=0 <= d=2**"
      ],
      "metadata": {
        "id": "7t_O5D696K3h"
      }
    },
    {
      "cell_type": "code",
      "source": [
        "def find_distance_value(arr1, arr2, d):\n",
        "    distance_value = 0\n",
        "\n",
        "    for num in arr1:\n",
        "        for other_num in arr2:\n",
        "            if abs(num - other_num) <= d:\n",
        "                break\n",
        "        else:\n",
        "            distance_value += 1\n",
        "\n",
        "    return distance_value\n"
      ],
      "metadata": {
        "id": "P6cZvCVH6FFj"
      },
      "execution_count": 5,
      "outputs": []
    },
    {
      "cell_type": "markdown",
      "source": [
        "Given an integer array nums of length n where all the integers of nums are in the range [1, n] and each integer appears **once** or **twice**, return *an array of all the integers that appears **twice***.\n",
        "\n",
        "You must write an algorithm that runs in O(n) time and uses only constant extra space.\n",
        "\n",
        "**Example 1:**\n",
        "\n",
        "**Input:** nums = [4,3,2,7,8,2,3,1]\n",
        "\n",
        "**Output:**\n",
        "\n",
        "[2,3]"
      ],
      "metadata": {
        "id": "KWt4JLkN6dL3"
      }
    },
    {
      "cell_type": "code",
      "source": [
        "def find_duplicates(nums):\n",
        "    result = []\n",
        "\n",
        "    for num in nums:\n",
        "        index = abs(num) - 1\n",
        "        if nums[index] > 0:\n",
        "            nums[index] = -nums[index]\n",
        "        else:\n",
        "            result.append(abs(num))\n",
        "\n",
        "    return result\n"
      ],
      "metadata": {
        "id": "jDvDWckg6Y4o"
      },
      "execution_count": 6,
      "outputs": []
    },
    {
      "cell_type": "markdown",
      "source": [
        "Suppose an array of length n sorted in ascending order is **rotated** between 1 and n times. For example, the array nums = [0,1,2,4,5,6,7] might become:\n",
        "\n",
        "- [4,5,6,7,0,1,2] if it was rotated 4 times.\n",
        "- [0,1,2,4,5,6,7] if it was rotated 7 times.\n",
        "\n",
        "Notice that **rotating** an array [a[0], a[1], a[2], ..., a[n-1]] 1 time results in the array [a[n-1], a[0], a[1], a[2], ..., a[n-2]].\n",
        "\n",
        "Given the sorted rotated array nums of **unique** elements, return *the minimum element of this array*.\n",
        "\n",
        "You must write an algorithm that runs in O(log n) time.\n",
        "\n",
        "**Example 1:**\n",
        "\n",
        "**Input:** nums = [3,4,5,1,2]\n",
        "\n",
        "**Output:** 1\n",
        "\n",
        "**Explanation:**\n",
        "\n",
        "The original array was [1,2,3,4,5] rotated 3 times."
      ],
      "metadata": {
        "id": "3m1G9gaZ6n-n"
      }
    },
    {
      "cell_type": "code",
      "source": [
        "def find_min(nums):\n",
        "    left, right = 0, len(nums) - 1\n",
        "\n",
        "    while left < right:\n",
        "        middle = (left + right) // 2\n",
        "\n",
        "        if nums[middle] > nums[right]:\n",
        "            left = middle + 1\n",
        "        else:\n",
        "            right = middle\n",
        "\n",
        "    return nums[left]\n"
      ],
      "metadata": {
        "id": "CPfVq9hJ6iri"
      },
      "execution_count": 7,
      "outputs": []
    },
    {
      "cell_type": "markdown",
      "source": [
        "An integer array original is transformed into a **doubled** array changed by appending **twice the value** of every element in original, and then randomly **shuffling** the resulting array.\n",
        "\n",
        "Given an array changed, return original *if* changed *is a **doubled** array. If* changed *is not a **doubled** array, return an empty array. The elements in* original *may be returned in **any** order*.\n",
        "\n",
        "**Example 1:**\n",
        "\n",
        "**Input:** changed = [1,3,4,2,6,8]\n",
        "\n",
        "**Output:** [1,3,4]\n",
        "\n",
        "**Explanation:** One possible original array could be [1,3,4]:\n",
        "\n",
        "- Twice the value of 1 is 1 * 2 = 2.\n",
        "- Twice the value of 3 is 3 * 2 = 6.\n",
        "- Twice the value of 4 is 4 * 2 = 8.\n",
        "\n",
        "Other original arrays could be [4,3,1] or [3,1,4]."
      ],
      "metadata": {
        "id": "14NyhJOf7IaI"
      }
    },
    {
      "cell_type": "code",
      "source": [
        "def find_original_array(changed):\n",
        "    freq = {}\n",
        "\n",
        "    for num in changed:\n",
        "        freq[num] = freq.get(num, 0) + 1\n",
        "\n",
        "    original = []\n",
        "\n",
        "    for num in changed:\n",
        "        if freq.get(num / 2, 0) > 0:\n",
        "            original.append(num / 2)\n",
        "            freq[num / 2] -= 1\n",
        "        else:\n",
        "            return []\n",
        "\n",
        "    return original\n"
      ],
      "metadata": {
        "id": "AMJsUtFi67ls"
      },
      "execution_count": 8,
      "outputs": []
    },
    {
      "cell_type": "code",
      "source": [],
      "metadata": {
        "id": "PJFM4fme7RaJ"
      },
      "execution_count": null,
      "outputs": []
    }
  ]
}